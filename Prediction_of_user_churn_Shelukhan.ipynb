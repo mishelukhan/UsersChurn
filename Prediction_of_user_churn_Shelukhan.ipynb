{
  "cells": [
    {
      "cell_type": "code",
      "execution_count": 1,
      "metadata": {
        "id": "VLLfFR7srMO_"
      },
      "outputs": [],
      "source": [
        "import pandas as pd\n",
        "import numpy as np\n",
        "from matplotlib import pyplot as plt\n",
        "import seaborn as sns\n",
        "sns.set()"
      ]
    },
    {
      "cell_type": "markdown",
      "metadata": {
        "id": "1T9L0I6vrrDT"
      },
      "source": [
        "# Загрузка данных"
      ]
    },
    {
      "cell_type": "code",
      "execution_count": 2,
      "metadata": {
        "id": "LitpOf-Wruwz"
      },
      "outputs": [],
      "source": [
        "data = pd.read_csv('./train_Tele.csv')"
      ]
    },
    {
      "cell_type": "markdown",
      "metadata": {
        "id": "xI5nuz0y6LY-"
      },
      "source": [
        "Явно выделим численные и категориальные признаки"
      ]
    },
    {
      "cell_type": "code",
      "execution_count": 3,
      "metadata": {
        "id": "6iR0h_kAsZ4c"
      },
      "outputs": [],
      "source": [
        "# Числовые признаки\n",
        "num_cols = [\n",
        "    'ClientPeriod',\n",
        "    'MonthlySpending',\n",
        "    'TotalSpent'\n",
        "]\n",
        "\n",
        "# Категориальные признаки\n",
        "cat_cols = [\n",
        "    'Sex',\n",
        "    'IsSeniorCitizen',\n",
        "    'HasPartner',\n",
        "    'HasChild',\n",
        "    'HasPhoneService',\n",
        "    'HasMultiplePhoneNumbers',\n",
        "    'HasInternetService',\n",
        "    'HasOnlineSecurityService',\n",
        "    'HasOnlineBackup',\n",
        "    'HasDeviceProtection',\n",
        "    'HasTechSupportAccess',\n",
        "    'HasOnlineTV',\n",
        "    'HasMovieSubscription',\n",
        "    'HasContractPhone',\n",
        "    'IsBillingPaperless',\n",
        "    'PaymentMethod'\n",
        "]\n",
        "\n",
        "feature_cols = num_cols + cat_cols\n",
        "target_col = 'Churn'"
      ]
    },
    {
      "cell_type": "markdown",
      "metadata": {
        "id": "9bn7a2n26V_A"
      },
      "source": [
        "Посмотрим на 5 случайных строк таблицы"
      ]
    },
    {
      "cell_type": "code",
      "execution_count": 4,
      "metadata": {
        "id": "RyAPfv-BuZIB",
        "colab": {
          "base_uri": "https://localhost:8080/",
          "height": 357
        },
        "outputId": "e9060164-1d2e-468d-babd-218f6849705c"
      },
      "outputs": [
        {
          "output_type": "execute_result",
          "data": {
            "text/plain": [
              "      ClientPeriod  MonthlySpending TotalSpent     Sex  IsSeniorCitizen  \\\n",
              "2688             2            71.30     157.75    Male                0   \n",
              "1372            34            85.20    2874.45    Male                1   \n",
              "3739            29            19.55      521.8  Female                0   \n",
              "4992            21            80.35     1747.2    Male                0   \n",
              "2616             2            24.85         62    Male                0   \n",
              "\n",
              "     HasPartner HasChild HasPhoneService HasMultiplePhoneNumbers  \\\n",
              "2688         No       No             Yes                      No   \n",
              "1372        Yes       No             Yes                      No   \n",
              "3739        Yes       No             Yes                      No   \n",
              "4992         No      Yes             Yes                     Yes   \n",
              "2616         No       No             Yes                     Yes   \n",
              "\n",
              "     HasInternetService HasOnlineSecurityService      HasOnlineBackup  \\\n",
              "2688        Fiber optic                       No                   No   \n",
              "1372        Fiber optic                       No                   No   \n",
              "3739                 No      No internet service  No internet service   \n",
              "4992        Fiber optic                      Yes                   No   \n",
              "2616                 No      No internet service  No internet service   \n",
              "\n",
              "      HasDeviceProtection HasTechSupportAccess          HasOnlineTV  \\\n",
              "2688                   No                   No                   No   \n",
              "1372                  Yes                   No                  Yes   \n",
              "3739  No internet service  No internet service  No internet service   \n",
              "4992                   No                   No                   No   \n",
              "2616  No internet service  No internet service  No internet service   \n",
              "\n",
              "     HasMovieSubscription HasContractPhone IsBillingPaperless  \\\n",
              "2688                   No   Month-to-month                Yes   \n",
              "1372                   No   Month-to-month                Yes   \n",
              "3739  No internet service         Two year                Yes   \n",
              "4992                   No   Month-to-month                 No   \n",
              "2616  No internet service   Month-to-month                 No   \n",
              "\n",
              "                PaymentMethod  Churn  \n",
              "2688  Credit card (automatic)      0  \n",
              "1372  Credit card (automatic)      0  \n",
              "3739             Mailed check      0  \n",
              "4992         Electronic check      0  \n",
              "2616             Mailed check      0  "
            ],
            "text/html": [
              "\n",
              "  <div id=\"df-5caba0a2-ea77-4789-8b86-1d7bd2cad68b\">\n",
              "    <div class=\"colab-df-container\">\n",
              "      <div>\n",
              "<style scoped>\n",
              "    .dataframe tbody tr th:only-of-type {\n",
              "        vertical-align: middle;\n",
              "    }\n",
              "\n",
              "    .dataframe tbody tr th {\n",
              "        vertical-align: top;\n",
              "    }\n",
              "\n",
              "    .dataframe thead th {\n",
              "        text-align: right;\n",
              "    }\n",
              "</style>\n",
              "<table border=\"1\" class=\"dataframe\">\n",
              "  <thead>\n",
              "    <tr style=\"text-align: right;\">\n",
              "      <th></th>\n",
              "      <th>ClientPeriod</th>\n",
              "      <th>MonthlySpending</th>\n",
              "      <th>TotalSpent</th>\n",
              "      <th>Sex</th>\n",
              "      <th>IsSeniorCitizen</th>\n",
              "      <th>HasPartner</th>\n",
              "      <th>HasChild</th>\n",
              "      <th>HasPhoneService</th>\n",
              "      <th>HasMultiplePhoneNumbers</th>\n",
              "      <th>HasInternetService</th>\n",
              "      <th>HasOnlineSecurityService</th>\n",
              "      <th>HasOnlineBackup</th>\n",
              "      <th>HasDeviceProtection</th>\n",
              "      <th>HasTechSupportAccess</th>\n",
              "      <th>HasOnlineTV</th>\n",
              "      <th>HasMovieSubscription</th>\n",
              "      <th>HasContractPhone</th>\n",
              "      <th>IsBillingPaperless</th>\n",
              "      <th>PaymentMethod</th>\n",
              "      <th>Churn</th>\n",
              "    </tr>\n",
              "  </thead>\n",
              "  <tbody>\n",
              "    <tr>\n",
              "      <th>2688</th>\n",
              "      <td>2</td>\n",
              "      <td>71.30</td>\n",
              "      <td>157.75</td>\n",
              "      <td>Male</td>\n",
              "      <td>0</td>\n",
              "      <td>No</td>\n",
              "      <td>No</td>\n",
              "      <td>Yes</td>\n",
              "      <td>No</td>\n",
              "      <td>Fiber optic</td>\n",
              "      <td>No</td>\n",
              "      <td>No</td>\n",
              "      <td>No</td>\n",
              "      <td>No</td>\n",
              "      <td>No</td>\n",
              "      <td>No</td>\n",
              "      <td>Month-to-month</td>\n",
              "      <td>Yes</td>\n",
              "      <td>Credit card (automatic)</td>\n",
              "      <td>0</td>\n",
              "    </tr>\n",
              "    <tr>\n",
              "      <th>1372</th>\n",
              "      <td>34</td>\n",
              "      <td>85.20</td>\n",
              "      <td>2874.45</td>\n",
              "      <td>Male</td>\n",
              "      <td>1</td>\n",
              "      <td>Yes</td>\n",
              "      <td>No</td>\n",
              "      <td>Yes</td>\n",
              "      <td>No</td>\n",
              "      <td>Fiber optic</td>\n",
              "      <td>No</td>\n",
              "      <td>No</td>\n",
              "      <td>Yes</td>\n",
              "      <td>No</td>\n",
              "      <td>Yes</td>\n",
              "      <td>No</td>\n",
              "      <td>Month-to-month</td>\n",
              "      <td>Yes</td>\n",
              "      <td>Credit card (automatic)</td>\n",
              "      <td>0</td>\n",
              "    </tr>\n",
              "    <tr>\n",
              "      <th>3739</th>\n",
              "      <td>29</td>\n",
              "      <td>19.55</td>\n",
              "      <td>521.8</td>\n",
              "      <td>Female</td>\n",
              "      <td>0</td>\n",
              "      <td>Yes</td>\n",
              "      <td>No</td>\n",
              "      <td>Yes</td>\n",
              "      <td>No</td>\n",
              "      <td>No</td>\n",
              "      <td>No internet service</td>\n",
              "      <td>No internet service</td>\n",
              "      <td>No internet service</td>\n",
              "      <td>No internet service</td>\n",
              "      <td>No internet service</td>\n",
              "      <td>No internet service</td>\n",
              "      <td>Two year</td>\n",
              "      <td>Yes</td>\n",
              "      <td>Mailed check</td>\n",
              "      <td>0</td>\n",
              "    </tr>\n",
              "    <tr>\n",
              "      <th>4992</th>\n",
              "      <td>21</td>\n",
              "      <td>80.35</td>\n",
              "      <td>1747.2</td>\n",
              "      <td>Male</td>\n",
              "      <td>0</td>\n",
              "      <td>No</td>\n",
              "      <td>Yes</td>\n",
              "      <td>Yes</td>\n",
              "      <td>Yes</td>\n",
              "      <td>Fiber optic</td>\n",
              "      <td>Yes</td>\n",
              "      <td>No</td>\n",
              "      <td>No</td>\n",
              "      <td>No</td>\n",
              "      <td>No</td>\n",
              "      <td>No</td>\n",
              "      <td>Month-to-month</td>\n",
              "      <td>No</td>\n",
              "      <td>Electronic check</td>\n",
              "      <td>0</td>\n",
              "    </tr>\n",
              "    <tr>\n",
              "      <th>2616</th>\n",
              "      <td>2</td>\n",
              "      <td>24.85</td>\n",
              "      <td>62</td>\n",
              "      <td>Male</td>\n",
              "      <td>0</td>\n",
              "      <td>No</td>\n",
              "      <td>No</td>\n",
              "      <td>Yes</td>\n",
              "      <td>Yes</td>\n",
              "      <td>No</td>\n",
              "      <td>No internet service</td>\n",
              "      <td>No internet service</td>\n",
              "      <td>No internet service</td>\n",
              "      <td>No internet service</td>\n",
              "      <td>No internet service</td>\n",
              "      <td>No internet service</td>\n",
              "      <td>Month-to-month</td>\n",
              "      <td>No</td>\n",
              "      <td>Mailed check</td>\n",
              "      <td>0</td>\n",
              "    </tr>\n",
              "  </tbody>\n",
              "</table>\n",
              "</div>\n",
              "      <button class=\"colab-df-convert\" onclick=\"convertToInteractive('df-5caba0a2-ea77-4789-8b86-1d7bd2cad68b')\"\n",
              "              title=\"Convert this dataframe to an interactive table.\"\n",
              "              style=\"display:none;\">\n",
              "        \n",
              "  <svg xmlns=\"http://www.w3.org/2000/svg\" height=\"24px\"viewBox=\"0 0 24 24\"\n",
              "       width=\"24px\">\n",
              "    <path d=\"M0 0h24v24H0V0z\" fill=\"none\"/>\n",
              "    <path d=\"M18.56 5.44l.94 2.06.94-2.06 2.06-.94-2.06-.94-.94-2.06-.94 2.06-2.06.94zm-11 1L8.5 8.5l.94-2.06 2.06-.94-2.06-.94L8.5 2.5l-.94 2.06-2.06.94zm10 10l.94 2.06.94-2.06 2.06-.94-2.06-.94-.94-2.06-.94 2.06-2.06.94z\"/><path d=\"M17.41 7.96l-1.37-1.37c-.4-.4-.92-.59-1.43-.59-.52 0-1.04.2-1.43.59L10.3 9.45l-7.72 7.72c-.78.78-.78 2.05 0 2.83L4 21.41c.39.39.9.59 1.41.59.51 0 1.02-.2 1.41-.59l7.78-7.78 2.81-2.81c.8-.78.8-2.07 0-2.86zM5.41 20L4 18.59l7.72-7.72 1.47 1.35L5.41 20z\"/>\n",
              "  </svg>\n",
              "      </button>\n",
              "      \n",
              "  <style>\n",
              "    .colab-df-container {\n",
              "      display:flex;\n",
              "      flex-wrap:wrap;\n",
              "      gap: 12px;\n",
              "    }\n",
              "\n",
              "    .colab-df-convert {\n",
              "      background-color: #E8F0FE;\n",
              "      border: none;\n",
              "      border-radius: 50%;\n",
              "      cursor: pointer;\n",
              "      display: none;\n",
              "      fill: #1967D2;\n",
              "      height: 32px;\n",
              "      padding: 0 0 0 0;\n",
              "      width: 32px;\n",
              "    }\n",
              "\n",
              "    .colab-df-convert:hover {\n",
              "      background-color: #E2EBFA;\n",
              "      box-shadow: 0px 1px 2px rgba(60, 64, 67, 0.3), 0px 1px 3px 1px rgba(60, 64, 67, 0.15);\n",
              "      fill: #174EA6;\n",
              "    }\n",
              "\n",
              "    [theme=dark] .colab-df-convert {\n",
              "      background-color: #3B4455;\n",
              "      fill: #D2E3FC;\n",
              "    }\n",
              "\n",
              "    [theme=dark] .colab-df-convert:hover {\n",
              "      background-color: #434B5C;\n",
              "      box-shadow: 0px 1px 3px 1px rgba(0, 0, 0, 0.15);\n",
              "      filter: drop-shadow(0px 1px 2px rgba(0, 0, 0, 0.3));\n",
              "      fill: #FFFFFF;\n",
              "    }\n",
              "  </style>\n",
              "\n",
              "      <script>\n",
              "        const buttonEl =\n",
              "          document.querySelector('#df-5caba0a2-ea77-4789-8b86-1d7bd2cad68b button.colab-df-convert');\n",
              "        buttonEl.style.display =\n",
              "          google.colab.kernel.accessAllowed ? 'block' : 'none';\n",
              "\n",
              "        async function convertToInteractive(key) {\n",
              "          const element = document.querySelector('#df-5caba0a2-ea77-4789-8b86-1d7bd2cad68b');\n",
              "          const dataTable =\n",
              "            await google.colab.kernel.invokeFunction('convertToInteractive',\n",
              "                                                     [key], {});\n",
              "          if (!dataTable) return;\n",
              "\n",
              "          const docLinkHtml = 'Like what you see? Visit the ' +\n",
              "            '<a target=\"_blank\" href=https://colab.research.google.com/notebooks/data_table.ipynb>data table notebook</a>'\n",
              "            + ' to learn more about interactive tables.';\n",
              "          element.innerHTML = '';\n",
              "          dataTable['output_type'] = 'display_data';\n",
              "          await google.colab.output.renderOutput(dataTable, element);\n",
              "          const docLink = document.createElement('div');\n",
              "          docLink.innerHTML = docLinkHtml;\n",
              "          element.appendChild(docLink);\n",
              "        }\n",
              "      </script>\n",
              "    </div>\n",
              "  </div>\n",
              "  "
            ]
          },
          "metadata": {},
          "execution_count": 4
        }
      ],
      "source": [
        "data.sample(n = 5)"
      ]
    },
    {
      "cell_type": "markdown",
      "metadata": {
        "id": "uXR0F8BX7NSE"
      },
      "source": [
        "Посмотрим на суммарное количество 'nan'-ов в каждом столбце и убедимся, что их нету вовсе."
      ]
    },
    {
      "cell_type": "code",
      "execution_count": 5,
      "metadata": {
        "id": "MXgrcbMsvb3W",
        "colab": {
          "base_uri": "https://localhost:8080/"
        },
        "outputId": "ea06f9a4-be14-40fa-a193-797175361896"
      },
      "outputs": [
        {
          "output_type": "execute_result",
          "data": {
            "text/plain": [
              "ClientPeriod                0\n",
              "MonthlySpending             0\n",
              "TotalSpent                  0\n",
              "Sex                         0\n",
              "IsSeniorCitizen             0\n",
              "HasPartner                  0\n",
              "HasChild                    0\n",
              "HasPhoneService             0\n",
              "HasMultiplePhoneNumbers     0\n",
              "HasInternetService          0\n",
              "HasOnlineSecurityService    0\n",
              "HasOnlineBackup             0\n",
              "HasDeviceProtection         0\n",
              "HasTechSupportAccess        0\n",
              "HasOnlineTV                 0\n",
              "HasMovieSubscription        0\n",
              "HasContractPhone            0\n",
              "IsBillingPaperless          0\n",
              "PaymentMethod               0\n",
              "Churn                       0\n",
              "dtype: int64"
            ]
          },
          "metadata": {},
          "execution_count": 5
        }
      ],
      "source": [
        "data.isna().sum()"
      ]
    },
    {
      "cell_type": "markdown",
      "metadata": {
        "id": "Is9Knt6s7pRZ"
      },
      "source": [
        "Теперь при помощи метода .info() стоит узнать тип данных в каждой колонке"
      ]
    },
    {
      "cell_type": "code",
      "execution_count": 6,
      "metadata": {
        "id": "4FwAkULvv7an",
        "colab": {
          "base_uri": "https://localhost:8080/"
        },
        "outputId": "833c0d7b-a2f3-4c90-9bde-74e1d082e79f"
      },
      "outputs": [
        {
          "output_type": "stream",
          "name": "stdout",
          "text": [
            "<class 'pandas.core.frame.DataFrame'>\n",
            "RangeIndex: 5282 entries, 0 to 5281\n",
            "Data columns (total 20 columns):\n",
            " #   Column                    Non-Null Count  Dtype  \n",
            "---  ------                    --------------  -----  \n",
            " 0   ClientPeriod              5282 non-null   int64  \n",
            " 1   MonthlySpending           5282 non-null   float64\n",
            " 2   TotalSpent                5282 non-null   object \n",
            " 3   Sex                       5282 non-null   object \n",
            " 4   IsSeniorCitizen           5282 non-null   int64  \n",
            " 5   HasPartner                5282 non-null   object \n",
            " 6   HasChild                  5282 non-null   object \n",
            " 7   HasPhoneService           5282 non-null   object \n",
            " 8   HasMultiplePhoneNumbers   5282 non-null   object \n",
            " 9   HasInternetService        5282 non-null   object \n",
            " 10  HasOnlineSecurityService  5282 non-null   object \n",
            " 11  HasOnlineBackup           5282 non-null   object \n",
            " 12  HasDeviceProtection       5282 non-null   object \n",
            " 13  HasTechSupportAccess      5282 non-null   object \n",
            " 14  HasOnlineTV               5282 non-null   object \n",
            " 15  HasMovieSubscription      5282 non-null   object \n",
            " 16  HasContractPhone          5282 non-null   object \n",
            " 17  IsBillingPaperless        5282 non-null   object \n",
            " 18  PaymentMethod             5282 non-null   object \n",
            " 19  Churn                     5282 non-null   int64  \n",
            "dtypes: float64(1), int64(3), object(16)\n",
            "memory usage: 825.4+ KB\n"
          ]
        }
      ],
      "source": [
        "data.info()"
      ]
    },
    {
      "cell_type": "code",
      "execution_count": 7,
      "metadata": {
        "id": "7xcFZh09yUzD",
        "colab": {
          "base_uri": "https://localhost:8080/"
        },
        "outputId": "098cb192-1aec-464d-fc98-93e7a6f71138"
      },
      "outputs": [
        {
          "output_type": "execute_result",
          "data": {
            "text/plain": [
              "(5282, 20)"
            ]
          },
          "metadata": {},
          "execution_count": 7
        }
      ],
      "source": [
        "data.shape"
      ]
    },
    {
      "cell_type": "markdown",
      "metadata": {
        "id": "hVw6Tizd7yLO"
      },
      "source": [
        "Во-первых видно, что количество строк в таблице совпадает с количеством  'non - null' значений в каждой колонке, что подверждает отсутствие 'nan'-ов "
      ]
    },
    {
      "cell_type": "markdown",
      "metadata": {
        "id": "ersks4sE8IXq"
      },
      "source": [
        "Во-вторых, тип колонки 'Total Spent' это 'object', что скорее всего означает наличие в них какого-то не цифрового символа. Как оказалось, в ней присутствует 9 пробельных символов ' ', а значит для дальнейшего анализа значение в столбце 'Total Spent' таких строк с таким символом следует изменить на 0. После удаления соответствующих строк изменим тип данных в 'TotalSpent' на 'float64'"
      ]
    },
    {
      "cell_type": "code",
      "execution_count": 8,
      "metadata": {
        "id": "VmBRUb1S9EJJ"
      },
      "outputs": [],
      "source": [
        "data = data.replace(' ', 0)\n",
        "\n",
        "data['TotalSpent'] = pd.to_numeric(data['TotalSpent'])"
      ]
    },
    {
      "cell_type": "markdown",
      "metadata": {
        "id": "5xkcAErG9mnD"
      },
      "source": [
        "Проверим, что все вышло"
      ]
    },
    {
      "cell_type": "code",
      "execution_count": 9,
      "metadata": {
        "id": "md5b3DLa9JgS",
        "colab": {
          "base_uri": "https://localhost:8080/"
        },
        "outputId": "345b70af-a38a-44f6-bd10-f7513545949d"
      },
      "outputs": [
        {
          "output_type": "stream",
          "name": "stdout",
          "text": [
            "<class 'pandas.core.frame.DataFrame'>\n",
            "RangeIndex: 5282 entries, 0 to 5281\n",
            "Data columns (total 20 columns):\n",
            " #   Column                    Non-Null Count  Dtype  \n",
            "---  ------                    --------------  -----  \n",
            " 0   ClientPeriod              5282 non-null   int64  \n",
            " 1   MonthlySpending           5282 non-null   float64\n",
            " 2   TotalSpent                5282 non-null   float64\n",
            " 3   Sex                       5282 non-null   object \n",
            " 4   IsSeniorCitizen           5282 non-null   int64  \n",
            " 5   HasPartner                5282 non-null   object \n",
            " 6   HasChild                  5282 non-null   object \n",
            " 7   HasPhoneService           5282 non-null   object \n",
            " 8   HasMultiplePhoneNumbers   5282 non-null   object \n",
            " 9   HasInternetService        5282 non-null   object \n",
            " 10  HasOnlineSecurityService  5282 non-null   object \n",
            " 11  HasOnlineBackup           5282 non-null   object \n",
            " 12  HasDeviceProtection       5282 non-null   object \n",
            " 13  HasTechSupportAccess      5282 non-null   object \n",
            " 14  HasOnlineTV               5282 non-null   object \n",
            " 15  HasMovieSubscription      5282 non-null   object \n",
            " 16  HasContractPhone          5282 non-null   object \n",
            " 17  IsBillingPaperless        5282 non-null   object \n",
            " 18  PaymentMethod             5282 non-null   object \n",
            " 19  Churn                     5282 non-null   int64  \n",
            "dtypes: float64(2), int64(3), object(15)\n",
            "memory usage: 825.4+ KB\n"
          ]
        }
      ],
      "source": [
        "data.info()"
      ]
    },
    {
      "cell_type": "code",
      "execution_count": 10,
      "metadata": {
        "id": "vCFjaUih9uP4",
        "colab": {
          "base_uri": "https://localhost:8080/"
        },
        "outputId": "cb2f5e21-aefe-4fe0-e500-c0e35a104160"
      },
      "outputs": [
        {
          "output_type": "execute_result",
          "data": {
            "text/plain": [
              "(5282, 20)"
            ]
          },
          "metadata": {},
          "execution_count": 10
        }
      ],
      "source": [
        "data.shape"
      ]
    },
    {
      "cell_type": "markdown",
      "metadata": {
        "id": "EP-Pk4jhzuSm"
      },
      "source": [
        "# Анализ данных \n",
        "Подключим модуль warnings для игнорирования ненужных предупреждений"
      ]
    },
    {
      "cell_type": "code",
      "execution_count": 11,
      "metadata": {
        "id": "UyhxqcxD0PMk"
      },
      "outputs": [],
      "source": [
        "import warnings\n",
        "warnings.filterwarnings('ignore')"
      ]
    },
    {
      "cell_type": "markdown",
      "metadata": {
        "id": "unSgIKda-m0d"
      },
      "source": [
        "Все готово для того, чтобы визуализировать наши данные. Вначале построим гистограммы для численных признаков."
      ]
    },
    {
      "cell_type": "code",
      "execution_count": 12,
      "metadata": {
        "id": "adsPzH2A0UEf",
        "colab": {
          "base_uri": "https://localhost:8080/",
          "height": 355
        },
        "outputId": "dbe59360-7610-4a2d-f212-3ea7fb563310"
      },
      "outputs": [
        {
          "output_type": "execute_result",
          "data": {
            "text/plain": [
              "Text(0.5, 1.0, 'TotalSpent')"
            ]
          },
          "metadata": {},
          "execution_count": 12
        },
        {
          "output_type": "display_data",
          "data": {
            "text/plain": [
              "<Figure size 1440x360 with 3 Axes>"
            ],
            "image/png": "[encoded data removed]"
          },
          "metadata": {}
        }
      ],
      "source": [
        "fig, axs = plt.subplots(1, 3, figsize=(20, 5))\n",
        "axs[0].hist(data['ClientPeriod'], bins=100, color='red')\n",
        "axs[0].set_title('ClientPeriod')\n",
        "axs[1].hist(data['MonthlySpending'], bins=100, color='blue')\n",
        "axs[1].set_title('MonthlySpending')\n",
        "axs[2].hist(data['TotalSpent'], bins=100, color='black')\n",
        "axs[2].set_title('TotalSpent')"
      ]
    },
    {
      "cell_type": "markdown",
      "metadata": {
        "id": "i8BQ7FYI-_oG"
      },
      "source": [
        "А теперь столбчатые диаграммы для категориальных."
      ]
    },
    {
      "cell_type": "code",
      "execution_count": 13,
      "metadata": {
        "id": "GcPMqFoyCJep",
        "colab": {
          "base_uri": "https://localhost:8080/",
          "height": 1000
        },
        "outputId": "8c5f7da1-723c-46e5-e5f1-5e721b215f0c"
      },
      "outputs": [
        {
          "output_type": "display_data",
          "data": {
            "text/plain": [
              "<Figure size 1440x3600 with 16 Axes>"
            ],
            "image/png": "[encoded data removed]"
          },
          "metadata": {}
        }
      ],
      "source": [
        "fig, axs = plt.subplots(8, 2, figsize=(20, 50))\n",
        "\n",
        "axs = axs.ravel()\n",
        "for index, column_name in enumerate(cat_cols):\n",
        "    series = data[column_name].value_counts()\n",
        "    axs[index].bar(series.index, series, color='red', width=0.3)\n",
        "    axs[index].set_title(column_name)\n"
      ]
    },
    {
      "cell_type": "markdown",
      "metadata": {
        "id": "HKevf1nK_yg9"
      },
      "source": [
        "Теперь посмотрим на распределение target переменной."
      ]
    },
    {
      "cell_type": "code",
      "execution_count": 14,
      "metadata": {
        "id": "Kw_qNyAy4lD7",
        "colab": {
          "base_uri": "https://localhost:8080/",
          "height": 501
        },
        "outputId": "9751c0a5-fe27-47ab-da56-76027b0dccbb"
      },
      "outputs": [
        {
          "output_type": "display_data",
          "data": {
            "text/plain": [
              "<Figure size 1296x576 with 1 Axes>"
            ],
            "image/png": "[encoded data removed]"
          },
          "metadata": {}
        }
      ],
      "source": [
        "target_bar = data[target_col].value_counts()\n",
        "plt.figure(figsize=(18, 8))\n",
        "plt.bar(target_bar.index, target_bar, width=0.2)\n",
        "plt.title('Churn statistics')\n",
        "plt.show()"
      ]
    },
    {
      "cell_type": "markdown",
      "metadata": {
        "id": "DZeZZW4U_4dQ"
      },
      "source": [
        "Видно, что класс ноль встречается примерно в 2-3 раза чаще, чем класс 1, поэтому данные несбалансированы. При разбиении на train и valid части следует стратифицировать данные."
      ]
    },
    {
      "cell_type": "markdown",
      "metadata": {
        "id": "-g_last7AQ5i"
      },
      "source": [
        "Помимо основных распределений можно также взглянуть на матрицу корреляций признаков с помощью тепловой карты в модуле seaborn.\n",
        "Для правильного построения тепловой карты нужно изменить тип всех категориальных признаков в тип 'int'. Сделать это можно при помощи 'LabelEncoder' из модуля 'sklearn.preprocessing'."
      ]
    },
    {
      "cell_type": "code",
      "execution_count": 15,
      "metadata": {
        "id": "fl0jOjd7EI_Q"
      },
      "outputs": [],
      "source": [
        "from sklearn.preprocessing import LabelEncoder"
      ]
    },
    {
      "cell_type": "code",
      "execution_count": 16,
      "metadata": {
        "id": "3DAQK-tAAgpY"
      },
      "outputs": [],
      "source": [
        "num_data = data[num_cols]\n",
        "categorical_data = data[cat_cols]\n",
        "\n",
        "labeled_data = data[num_cols]\n",
        "le = LabelEncoder()\n",
        "for col in cat_cols:\n",
        "    le.fit(data[col].unique())\n",
        "    labeled_data[col] = le.transform(data[col])\n",
        "\n",
        "labeled_data[target_col] = data[target_col]"
      ]
    },
    {
      "cell_type": "markdown",
      "metadata": {
        "id": "3WwLIMhJIQsN"
      },
      "source": [
        "Посмотрим, что вышло."
      ]
    },
    {
      "cell_type": "code",
      "execution_count": 17,
      "metadata": {
        "id": "ij7o-eiZIUmE",
        "colab": {
          "base_uri": "https://localhost:8080/",
          "height": 270
        },
        "outputId": "a151395d-dde4-4343-be0c-1a3d3f491355"
      },
      "outputs": [
        {
          "output_type": "execute_result",
          "data": {
            "text/plain": [
              "   ClientPeriod  MonthlySpending  TotalSpent  Sex  IsSeniorCitizen  \\\n",
              "0            55            19.50     1026.35    1                0   \n",
              "1            72            25.85     1872.20    1                0   \n",
              "2             1            75.90       75.90    1                0   \n",
              "3            32            79.30     2570.00    0                1   \n",
              "4            60           115.25     6758.45    0                0   \n",
              "\n",
              "   HasPartner  HasChild  HasPhoneService  HasMultiplePhoneNumbers  \\\n",
              "0           1         1                1                        0   \n",
              "1           1         0                1                        2   \n",
              "2           0         0                1                        0   \n",
              "3           1         0                1                        2   \n",
              "4           1         1                1                        2   \n",
              "\n",
              "   HasInternetService  HasOnlineSecurityService  HasOnlineBackup  \\\n",
              "0                   2                         1                1   \n",
              "1                   2                         1                1   \n",
              "2                   1                         0                0   \n",
              "3                   1                         0                0   \n",
              "4                   1                         2                2   \n",
              "\n",
              "   HasDeviceProtection  HasTechSupportAccess  HasOnlineTV  \\\n",
              "0                    1                     1            1   \n",
              "1                    1                     1            1   \n",
              "2                    0                     2            0   \n",
              "3                    2                     0            0   \n",
              "4                    2                     2            2   \n",
              "\n",
              "   HasMovieSubscription  HasContractPhone  IsBillingPaperless  PaymentMethod  \\\n",
              "0                     1                 1                   0              3   \n",
              "1                     1                 2                   0              1   \n",
              "2                     0                 0                   1              2   \n",
              "3                     0                 0                   0              3   \n",
              "4                     2                 2                   0              1   \n",
              "\n",
              "   Churn  \n",
              "0      0  \n",
              "1      0  \n",
              "2      1  \n",
              "3      0  \n",
              "4      0  "
            ],
            "text/html": [
              "\n",
              "  <div id=\"df-383477fa-ed57-4dba-b6b7-d0dbd2d1f336\">\n",
              "    <div class=\"colab-df-container\">\n",
              "      <div>\n",
              "<style scoped>\n",
              "    .dataframe tbody tr th:only-of-type {\n",
              "        vertical-align: middle;\n",
              "    }\n",
              "\n",
              "    .dataframe tbody tr th {\n",
              "        vertical-align: top;\n",
              "    }\n",
              "\n",
              "    .dataframe thead th {\n",
              "        text-align: right;\n",
              "    }\n",
              "</style>\n",
              "<table border=\"1\" class=\"dataframe\">\n",
              "  <thead>\n",
              "    <tr style=\"text-align: right;\">\n",
              "      <th></th>\n",
              "      <th>ClientPeriod</th>\n",
              "      <th>MonthlySpending</th>\n",
              "      <th>TotalSpent</th>\n",
              "      <th>Sex</th>\n",
              "      <th>IsSeniorCitizen</th>\n",
              "      <th>HasPartner</th>\n",
              "      <th>HasChild</th>\n",
              "      <th>HasPhoneService</th>\n",
              "      <th>HasMultiplePhoneNumbers</th>\n",
              "      <th>HasInternetService</th>\n",
              "      <th>HasOnlineSecurityService</th>\n",
              "      <th>HasOnlineBackup</th>\n",
              "      <th>HasDeviceProtection</th>\n",
              "      <th>HasTechSupportAccess</th>\n",
              "      <th>HasOnlineTV</th>\n",
              "      <th>HasMovieSubscription</th>\n",
              "      <th>HasContractPhone</th>\n",
              "      <th>IsBillingPaperless</th>\n",
              "      <th>PaymentMethod</th>\n",
              "      <th>Churn</th>\n",
              "    </tr>\n",
              "  </thead>\n",
              "  <tbody>\n",
              "    <tr>\n",
              "      <th>0</th>\n",
              "      <td>55</td>\n",
              "      <td>19.50</td>\n",
              "      <td>1026.35</td>\n",
              "      <td>1</td>\n",
              "      <td>0</td>\n",
              "      <td>1</td>\n",
              "      <td>1</td>\n",
              "      <td>1</td>\n",
              "      <td>0</td>\n",
              "      <td>2</td>\n",
              "      <td>1</td>\n",
              "      <td>1</td>\n",
              "      <td>1</td>\n",
              "      <td>1</td>\n",
              "      <td>1</td>\n",
              "      <td>1</td>\n",
              "      <td>1</td>\n",
              "      <td>0</td>\n",
              "      <td>3</td>\n",
              "      <td>0</td>\n",
              "    </tr>\n",
              "    <tr>\n",
              "      <th>1</th>\n",
              "      <td>72</td>\n",
              "      <td>25.85</td>\n",
              "      <td>1872.20</td>\n",
              "      <td>1</td>\n",
              "      <td>0</td>\n",
              "      <td>1</td>\n",
              "      <td>0</td>\n",
              "      <td>1</td>\n",
              "      <td>2</td>\n",
              "      <td>2</td>\n",
              "      <td>1</td>\n",
              "      <td>1</td>\n",
              "      <td>1</td>\n",
              "      <td>1</td>\n",
              "      <td>1</td>\n",
              "      <td>1</td>\n",
              "      <td>2</td>\n",
              "      <td>0</td>\n",
              "      <td>1</td>\n",
              "      <td>0</td>\n",
              "    </tr>\n",
              "    <tr>\n",
              "      <th>2</th>\n",
              "      <td>1</td>\n",
              "      <td>75.90</td>\n",
              "      <td>75.90</td>\n",
              "      <td>1</td>\n",
              "      <td>0</td>\n",
              "      <td>0</td>\n",
              "      <td>0</td>\n",
              "      <td>1</td>\n",
              "      <td>0</td>\n",
              "      <td>1</td>\n",
              "      <td>0</td>\n",
              "      <td>0</td>\n",
              "      <td>0</td>\n",
              "      <td>2</td>\n",
              "      <td>0</td>\n",
              "      <td>0</td>\n",
              "      <td>0</td>\n",
              "      <td>1</td>\n",
              "      <td>2</td>\n",
              "      <td>1</td>\n",
              "    </tr>\n",
              "    <tr>\n",
              "      <th>3</th>\n",
              "      <td>32</td>\n",
              "      <td>79.30</td>\n",
              "      <td>2570.00</td>\n",
              "      <td>0</td>\n",
              "      <td>1</td>\n",
              "      <td>1</td>\n",
              "      <td>0</td>\n",
              "      <td>1</td>\n",
              "      <td>2</td>\n",
              "      <td>1</td>\n",
              "      <td>0</td>\n",
              "      <td>0</td>\n",
              "      <td>2</td>\n",
              "      <td>0</td>\n",
              "      <td>0</td>\n",
              "      <td>0</td>\n",
              "      <td>0</td>\n",
              "      <td>0</td>\n",
              "      <td>3</td>\n",
              "      <td>0</td>\n",
              "    </tr>\n",
              "    <tr>\n",
              "      <th>4</th>\n",
              "      <td>60</td>\n",
              "      <td>115.25</td>\n",
              "      <td>6758.45</td>\n",
              "      <td>0</td>\n",
              "      <td>0</td>\n",
              "      <td>1</td>\n",
              "      <td>1</td>\n",
              "      <td>1</td>\n",
              "      <td>2</td>\n",
              "      <td>1</td>\n",
              "      <td>2</td>\n",
              "      <td>2</td>\n",
              "      <td>2</td>\n",
              "      <td>2</td>\n",
              "      <td>2</td>\n",
              "      <td>2</td>\n",
              "      <td>2</td>\n",
              "      <td>0</td>\n",
              "      <td>1</td>\n",
              "      <td>0</td>\n",
              "    </tr>\n",
              "  </tbody>\n",
              "</table>\n",
              "</div>\n",
              "      <button class=\"colab-df-convert\" onclick=\"convertToInteractive('df-383477fa-ed57-4dba-b6b7-d0dbd2d1f336')\"\n",
              "              title=\"Convert this dataframe to an interactive table.\"\n",
              "              style=\"display:none;\">\n",
              "        \n",
              "  <svg xmlns=\"http://www.w3.org/2000/svg\" height=\"24px\"viewBox=\"0 0 24 24\"\n",
              "       width=\"24px\">\n",
              "    <path d=\"M0 0h24v24H0V0z\" fill=\"none\"/>\n",
              "    <path d=\"M18.56 5.44l.94 2.06.94-2.06 2.06-.94-2.06-.94-.94-2.06-.94 2.06-2.06.94zm-11 1L8.5 8.5l.94-2.06 2.06-.94-2.06-.94L8.5 2.5l-.94 2.06-2.06.94zm10 10l.94 2.06.94-2.06 2.06-.94-2.06-.94-.94-2.06-.94 2.06-2.06.94z\"/><path d=\"M17.41 7.96l-1.37-1.37c-.4-.4-.92-.59-1.43-.59-.52 0-1.04.2-1.43.59L10.3 9.45l-7.72 7.72c-.78.78-.78 2.05 0 2.83L4 21.41c.39.39.9.59 1.41.59.51 0 1.02-.2 1.41-.59l7.78-7.78 2.81-2.81c.8-.78.8-2.07 0-2.86zM5.41 20L4 18.59l7.72-7.72 1.47 1.35L5.41 20z\"/>\n",
              "  </svg>\n",
              "      </button>\n",
              "      \n",
              "  <style>\n",
              "    .colab-df-container {\n",
              "      display:flex;\n",
              "      flex-wrap:wrap;\n",
              "      gap: 12px;\n",
              "    }\n",
              "\n",
              "    .colab-df-convert {\n",
              "      background-color: #E8F0FE;\n",
              "      border: none;\n",
              "      border-radius: 50%;\n",
              "      cursor: pointer;\n",
              "      display: none;\n",
              "      fill: #1967D2;\n",
              "      height: 32px;\n",
              "      padding: 0 0 0 0;\n",
              "      width: 32px;\n",
              "    }\n",
              "\n",
              "    .colab-df-convert:hover {\n",
              "      background-color: #E2EBFA;\n",
              "      box-shadow: 0px 1px 2px rgba(60, 64, 67, 0.3), 0px 1px 3px 1px rgba(60, 64, 67, 0.15);\n",
              "      fill: #174EA6;\n",
              "    }\n",
              "\n",
              "    [theme=dark] .colab-df-convert {\n",
              "      background-color: #3B4455;\n",
              "      fill: #D2E3FC;\n",
              "    }\n",
              "\n",
              "    [theme=dark] .colab-df-convert:hover {\n",
              "      background-color: #434B5C;\n",
              "      box-shadow: 0px 1px 3px 1px rgba(0, 0, 0, 0.15);\n",
              "      filter: drop-shadow(0px 1px 2px rgba(0, 0, 0, 0.3));\n",
              "      fill: #FFFFFF;\n",
              "    }\n",
              "  </style>\n",
              "\n",
              "      <script>\n",
              "        const buttonEl =\n",
              "          document.querySelector('#df-383477fa-ed57-4dba-b6b7-d0dbd2d1f336 button.colab-df-convert');\n",
              "        buttonEl.style.display =\n",
              "          google.colab.kernel.accessAllowed ? 'block' : 'none';\n",
              "\n",
              "        async function convertToInteractive(key) {\n",
              "          const element = document.querySelector('#df-383477fa-ed57-4dba-b6b7-d0dbd2d1f336');\n",
              "          const dataTable =\n",
              "            await google.colab.kernel.invokeFunction('convertToInteractive',\n",
              "                                                     [key], {});\n",
              "          if (!dataTable) return;\n",
              "\n",
              "          const docLinkHtml = 'Like what you see? Visit the ' +\n",
              "            '<a target=\"_blank\" href=https://colab.research.google.com/notebooks/data_table.ipynb>data table notebook</a>'\n",
              "            + ' to learn more about interactive tables.';\n",
              "          element.innerHTML = '';\n",
              "          dataTable['output_type'] = 'display_data';\n",
              "          await google.colab.output.renderOutput(dataTable, element);\n",
              "          const docLink = document.createElement('div');\n",
              "          docLink.innerHTML = docLinkHtml;\n",
              "          element.appendChild(docLink);\n",
              "        }\n",
              "      </script>\n",
              "    </div>\n",
              "  </div>\n",
              "  "
            ]
          },
          "metadata": {},
          "execution_count": 17
        }
      ],
      "source": [
        "labeled_data.head()"
      ]
    },
    {
      "cell_type": "code",
      "execution_count": 18,
      "metadata": {
        "id": "3wU7hlUnIYXw",
        "colab": {
          "base_uri": "https://localhost:8080/"
        },
        "outputId": "f79ec9a8-4350-40a8-8656-9e1f50370084"
      },
      "outputs": [
        {
          "output_type": "execute_result",
          "data": {
            "text/plain": [
              "(5282, 20)"
            ]
          },
          "metadata": {},
          "execution_count": 18
        }
      ],
      "source": [
        "labeled_data.shape"
      ]
    },
    {
      "cell_type": "markdown",
      "metadata": {
        "id": "dwXkMmN7Ixa8"
      },
      "source": [
        "Как видно, данные закодировались без потерь и теперь можно построить матрицу корреляции."
      ]
    },
    {
      "cell_type": "code",
      "execution_count": 19,
      "metadata": {
        "id": "NNZsBF-uJQXB",
        "colab": {
          "base_uri": "https://localhost:8080/",
          "height": 863
        },
        "outputId": "f68311b1-8195-4cc2-d532-eedde3c32ab7"
      },
      "outputs": [
        {
          "output_type": "execute_result",
          "data": {
            "text/plain": [
              "<matplotlib.axes._subplots.AxesSubplot at 0x7f9b55a98090>"
            ]
          },
          "metadata": {},
          "execution_count": 19
        },
        {
          "output_type": "display_data",
          "data": {
            "text/plain": [
              "<Figure size 1080x864 with 2 Axes>"
            ],
            "image/png": "[encoded data removed]"
          },
          "metadata": {}
        }
      ],
      "source": [
        "sns.set(rc={'figure.figsize':(15,12)})\n",
        "sns.heatmap(labeled_data.corr(), annot=True, cmap='coolwarm', \n",
        "            vmin=-1, vmax=+1, annot_kws={\"size\": 10})"
      ]
    },
    {
      "cell_type": "markdown",
      "metadata": {
        "id": "5ZhXA0rML9kZ"
      },
      "source": [
        "Заметим, что самое теплое нетривиальное место на карте - это коэффициенты корреляции между 'ClientPeriod' и 'TotalSpent' $\\rho_{1, 3} = 0.83$ (чем дольше клиент пользуется услугами телекомпании, тем больше он уже заплатил за оказанные услуги)."
      ]
    },
    {
      "cell_type": "markdown",
      "metadata": {
        "id": "jCykNr40N_A2"
      },
      "source": [
        "# One-hoot-encoding"
      ]
    },
    {
      "cell_type": "markdown",
      "metadata": {
        "id": "hueBuxvaO92X"
      },
      "source": [
        "Для начала следует закодировать все категориальные данные в числа при помощи one-hoot-encoding. Для этого будем использовать метод get_dummies из модуля pandas. Не забудем сохранить наши начальные незакодированные признаки в X_origin (они нам понадобятся в catboost)."
      ]
    },
    {
      "cell_type": "code",
      "execution_count": 20,
      "metadata": {
        "id": "hE50FgpdOD54",
        "colab": {
          "base_uri": "https://localhost:8080/",
          "height": 334
        },
        "outputId": "7c1f4bc7-b57e-41ad-bb21-35786b89c5e5"
      },
      "outputs": [
        {
          "output_type": "execute_result",
          "data": {
            "text/plain": [
              "   ClientPeriod  MonthlySpending  TotalSpent  IsSeniorCitizen  Sex_Male  \\\n",
              "0            55            19.50     1026.35                0         1   \n",
              "1            72            25.85     1872.20                0         1   \n",
              "2             1            75.90       75.90                0         1   \n",
              "3            32            79.30     2570.00                1         0   \n",
              "4            60           115.25     6758.45                0         0   \n",
              "\n",
              "   HasPartner_Yes  HasChild_Yes  HasPhoneService_Yes  \\\n",
              "0               1             1                    1   \n",
              "1               1             0                    1   \n",
              "2               0             0                    1   \n",
              "3               1             0                    1   \n",
              "4               1             1                    1   \n",
              "\n",
              "   HasMultiplePhoneNumbers_No phone service  HasMultiplePhoneNumbers_Yes  ...  \\\n",
              "0                                         0                            0  ...   \n",
              "1                                         0                            1  ...   \n",
              "2                                         0                            0  ...   \n",
              "3                                         0                            1  ...   \n",
              "4                                         0                            1  ...   \n",
              "\n",
              "   HasOnlineTV_No internet service  HasOnlineTV_Yes  \\\n",
              "0                                1                0   \n",
              "1                                1                0   \n",
              "2                                0                0   \n",
              "3                                0                0   \n",
              "4                                0                1   \n",
              "\n",
              "   HasMovieSubscription_No internet service  HasMovieSubscription_Yes  \\\n",
              "0                                         1                         0   \n",
              "1                                         1                         0   \n",
              "2                                         0                         0   \n",
              "3                                         0                         0   \n",
              "4                                         0                         1   \n",
              "\n",
              "   HasContractPhone_One year  HasContractPhone_Two year  \\\n",
              "0                          1                          0   \n",
              "1                          0                          1   \n",
              "2                          0                          0   \n",
              "3                          0                          0   \n",
              "4                          0                          1   \n",
              "\n",
              "   IsBillingPaperless_Yes  PaymentMethod_Credit card (automatic)  \\\n",
              "0                       0                                      0   \n",
              "1                       0                                      1   \n",
              "2                       1                                      0   \n",
              "3                       0                                      0   \n",
              "4                       0                                      1   \n",
              "\n",
              "   PaymentMethod_Electronic check  PaymentMethod_Mailed check  \n",
              "0                               0                           1  \n",
              "1                               0                           0  \n",
              "2                               1                           0  \n",
              "3                               0                           1  \n",
              "4                               0                           0  \n",
              "\n",
              "[5 rows x 30 columns]"
            ],
            "text/html": [
              "\n",
              "  <div id=\"df-885fe27c-ab7a-415c-849a-e3072a58ab79\">\n",
              "    <div class=\"colab-df-container\">\n",
              "      <div>\n",
              "<style scoped>\n",
              "    .dataframe tbody tr th:only-of-type {\n",
              "        vertical-align: middle;\n",
              "    }\n",
              "\n",
              "    .dataframe tbody tr th {\n",
              "        vertical-align: top;\n",
              "    }\n",
              "\n",
              "    .dataframe thead th {\n",
              "        text-align: right;\n",
              "    }\n",
              "</style>\n",
              "<table border=\"1\" class=\"dataframe\">\n",
              "  <thead>\n",
              "    <tr style=\"text-align: right;\">\n",
              "      <th></th>\n",
              "      <th>ClientPeriod</th>\n",
              "      <th>MonthlySpending</th>\n",
              "      <th>TotalSpent</th>\n",
              "      <th>IsSeniorCitizen</th>\n",
              "      <th>Sex_Male</th>\n",
              "      <th>HasPartner_Yes</th>\n",
              "      <th>HasChild_Yes</th>\n",
              "      <th>HasPhoneService_Yes</th>\n",
              "      <th>HasMultiplePhoneNumbers_No phone service</th>\n",
              "      <th>HasMultiplePhoneNumbers_Yes</th>\n",
              "      <th>...</th>\n",
              "      <th>HasOnlineTV_No internet service</th>\n",
              "      <th>HasOnlineTV_Yes</th>\n",
              "      <th>HasMovieSubscription_No internet service</th>\n",
              "      <th>HasMovieSubscription_Yes</th>\n",
              "      <th>HasContractPhone_One year</th>\n",
              "      <th>HasContractPhone_Two year</th>\n",
              "      <th>IsBillingPaperless_Yes</th>\n",
              "      <th>PaymentMethod_Credit card (automatic)</th>\n",
              "      <th>PaymentMethod_Electronic check</th>\n",
              "      <th>PaymentMethod_Mailed check</th>\n",
              "    </tr>\n",
              "  </thead>\n",
              "  <tbody>\n",
              "    <tr>\n",
              "      <th>0</th>\n",
              "      <td>55</td>\n",
              "      <td>19.50</td>\n",
              "      <td>1026.35</td>\n",
              "      <td>0</td>\n",
              "      <td>1</td>\n",
              "      <td>1</td>\n",
              "      <td>1</td>\n",
              "      <td>1</td>\n",
              "      <td>0</td>\n",
              "      <td>0</td>\n",
              "      <td>...</td>\n",
              "      <td>1</td>\n",
              "      <td>0</td>\n",
              "      <td>1</td>\n",
              "      <td>0</td>\n",
              "      <td>1</td>\n",
              "      <td>0</td>\n",
              "      <td>0</td>\n",
              "      <td>0</td>\n",
              "      <td>0</td>\n",
              "      <td>1</td>\n",
              "    </tr>\n",
              "    <tr>\n",
              "      <th>1</th>\n",
              "      <td>72</td>\n",
              "      <td>25.85</td>\n",
              "      <td>1872.20</td>\n",
              "      <td>0</td>\n",
              "      <td>1</td>\n",
              "      <td>1</td>\n",
              "      <td>0</td>\n",
              "      <td>1</td>\n",
              "      <td>0</td>\n",
              "      <td>1</td>\n",
              "      <td>...</td>\n",
              "      <td>1</td>\n",
              "      <td>0</td>\n",
              "      <td>1</td>\n",
              "      <td>0</td>\n",
              "      <td>0</td>\n",
              "      <td>1</td>\n",
              "      <td>0</td>\n",
              "      <td>1</td>\n",
              "      <td>0</td>\n",
              "      <td>0</td>\n",
              "    </tr>\n",
              "    <tr>\n",
              "      <th>2</th>\n",
              "      <td>1</td>\n",
              "      <td>75.90</td>\n",
              "      <td>75.90</td>\n",
              "      <td>0</td>\n",
              "      <td>1</td>\n",
              "      <td>0</td>\n",
              "      <td>0</td>\n",
              "      <td>1</td>\n",
              "      <td>0</td>\n",
              "      <td>0</td>\n",
              "      <td>...</td>\n",
              "      <td>0</td>\n",
              "      <td>0</td>\n",
              "      <td>0</td>\n",
              "      <td>0</td>\n",
              "      <td>0</td>\n",
              "      <td>0</td>\n",
              "      <td>1</td>\n",
              "      <td>0</td>\n",
              "      <td>1</td>\n",
              "      <td>0</td>\n",
              "    </tr>\n",
              "    <tr>\n",
              "      <th>3</th>\n",
              "      <td>32</td>\n",
              "      <td>79.30</td>\n",
              "      <td>2570.00</td>\n",
              "      <td>1</td>\n",
              "      <td>0</td>\n",
              "      <td>1</td>\n",
              "      <td>0</td>\n",
              "      <td>1</td>\n",
              "      <td>0</td>\n",
              "      <td>1</td>\n",
              "      <td>...</td>\n",
              "      <td>0</td>\n",
              "      <td>0</td>\n",
              "      <td>0</td>\n",
              "      <td>0</td>\n",
              "      <td>0</td>\n",
              "      <td>0</td>\n",
              "      <td>0</td>\n",
              "      <td>0</td>\n",
              "      <td>0</td>\n",
              "      <td>1</td>\n",
              "    </tr>\n",
              "    <tr>\n",
              "      <th>4</th>\n",
              "      <td>60</td>\n",
              "      <td>115.25</td>\n",
              "      <td>6758.45</td>\n",
              "      <td>0</td>\n",
              "      <td>0</td>\n",
              "      <td>1</td>\n",
              "      <td>1</td>\n",
              "      <td>1</td>\n",
              "      <td>0</td>\n",
              "      <td>1</td>\n",
              "      <td>...</td>\n",
              "      <td>0</td>\n",
              "      <td>1</td>\n",
              "      <td>0</td>\n",
              "      <td>1</td>\n",
              "      <td>0</td>\n",
              "      <td>1</td>\n",
              "      <td>0</td>\n",
              "      <td>1</td>\n",
              "      <td>0</td>\n",
              "      <td>0</td>\n",
              "    </tr>\n",
              "  </tbody>\n",
              "</table>\n",
              "<p>5 rows × 30 columns</p>\n",
              "</div>\n",
              "      <button class=\"colab-df-convert\" onclick=\"convertToInteractive('df-885fe27c-ab7a-415c-849a-e3072a58ab79')\"\n",
              "              title=\"Convert this dataframe to an interactive table.\"\n",
              "              style=\"display:none;\">\n",
              "        \n",
              "  <svg xmlns=\"http://www.w3.org/2000/svg\" height=\"24px\"viewBox=\"0 0 24 24\"\n",
              "       width=\"24px\">\n",
              "    <path d=\"M0 0h24v24H0V0z\" fill=\"none\"/>\n",
              "    <path d=\"M18.56 5.44l.94 2.06.94-2.06 2.06-.94-2.06-.94-.94-2.06-.94 2.06-2.06.94zm-11 1L8.5 8.5l.94-2.06 2.06-.94-2.06-.94L8.5 2.5l-.94 2.06-2.06.94zm10 10l.94 2.06.94-2.06 2.06-.94-2.06-.94-.94-2.06-.94 2.06-2.06.94z\"/><path d=\"M17.41 7.96l-1.37-1.37c-.4-.4-.92-.59-1.43-.59-.52 0-1.04.2-1.43.59L10.3 9.45l-7.72 7.72c-.78.78-.78 2.05 0 2.83L4 21.41c.39.39.9.59 1.41.59.51 0 1.02-.2 1.41-.59l7.78-7.78 2.81-2.81c.8-.78.8-2.07 0-2.86zM5.41 20L4 18.59l7.72-7.72 1.47 1.35L5.41 20z\"/>\n",
              "  </svg>\n",
              "      </button>\n",
              "      \n",
              "  <style>\n",
              "    .colab-df-container {\n",
              "      display:flex;\n",
              "      flex-wrap:wrap;\n",
              "      gap: 12px;\n",
              "    }\n",
              "\n",
              "    .colab-df-convert {\n",
              "      background-color: #E8F0FE;\n",
              "      border: none;\n",
              "      border-radius: 50%;\n",
              "      cursor: pointer;\n",
              "      display: none;\n",
              "      fill: #1967D2;\n",
              "      height: 32px;\n",
              "      padding: 0 0 0 0;\n",
              "      width: 32px;\n",
              "    }\n",
              "\n",
              "    .colab-df-convert:hover {\n",
              "      background-color: #E2EBFA;\n",
              "      box-shadow: 0px 1px 2px rgba(60, 64, 67, 0.3), 0px 1px 3px 1px rgba(60, 64, 67, 0.15);\n",
              "      fill: #174EA6;\n",
              "    }\n",
              "\n",
              "    [theme=dark] .colab-df-convert {\n",
              "      background-color: #3B4455;\n",
              "      fill: #D2E3FC;\n",
              "    }\n",
              "\n",
              "    [theme=dark] .colab-df-convert:hover {\n",
              "      background-color: #434B5C;\n",
              "      box-shadow: 0px 1px 3px 1px rgba(0, 0, 0, 0.15);\n",
              "      filter: drop-shadow(0px 1px 2px rgba(0, 0, 0, 0.3));\n",
              "      fill: #FFFFFF;\n",
              "    }\n",
              "  </style>\n",
              "\n",
              "      <script>\n",
              "        const buttonEl =\n",
              "          document.querySelector('#df-885fe27c-ab7a-415c-849a-e3072a58ab79 button.colab-df-convert');\n",
              "        buttonEl.style.display =\n",
              "          google.colab.kernel.accessAllowed ? 'block' : 'none';\n",
              "\n",
              "        async function convertToInteractive(key) {\n",
              "          const element = document.querySelector('#df-885fe27c-ab7a-415c-849a-e3072a58ab79');\n",
              "          const dataTable =\n",
              "            await google.colab.kernel.invokeFunction('convertToInteractive',\n",
              "                                                     [key], {});\n",
              "          if (!dataTable) return;\n",
              "\n",
              "          const docLinkHtml = 'Like what you see? Visit the ' +\n",
              "            '<a target=\"_blank\" href=https://colab.research.google.com/notebooks/data_table.ipynb>data table notebook</a>'\n",
              "            + ' to learn more about interactive tables.';\n",
              "          element.innerHTML = '';\n",
              "          dataTable['output_type'] = 'display_data';\n",
              "          await google.colab.output.renderOutput(dataTable, element);\n",
              "          const docLink = document.createElement('div');\n",
              "          docLink.innerHTML = docLinkHtml;\n",
              "          element.appendChild(docLink);\n",
              "        }\n",
              "      </script>\n",
              "    </div>\n",
              "  </div>\n",
              "  "
            ]
          },
          "metadata": {},
          "execution_count": 20
        }
      ],
      "source": [
        "dummy_features = pd.get_dummies(categorical_data, drop_first=True)\n",
        "\n",
        "X = pd.concat([num_data, dummy_features], axis=1)\n",
        "X_origin = data.iloc[:, :-1]\n",
        "\n",
        "y = data[target_col]\n",
        "\n",
        "X.head()"
      ]
    },
    {
      "cell_type": "markdown",
      "metadata": {
        "id": "otJ7bvVfQQsI"
      },
      "source": [
        "Теперь наши данные готовы для обучения большинства классических моделей."
      ]
    },
    {
      "cell_type": "markdown",
      "metadata": {
        "id": "-NWdRnfvT35M"
      },
      "source": [
        "# Деление выборки на train и valid части"
      ]
    },
    {
      "cell_type": "code",
      "execution_count": 21,
      "metadata": {
        "id": "Xl2QSidKT_Cg"
      },
      "outputs": [],
      "source": [
        "from sklearn.model_selection import train_test_split"
      ]
    },
    {
      "cell_type": "markdown",
      "metadata": {
        "id": "5XiJFROeQmZP"
      },
      "source": [
        "# KNN"
      ]
    },
    {
      "cell_type": "code",
      "execution_count": 22,
      "metadata": {
        "id": "uYC-AYTwQrg5"
      },
      "outputs": [],
      "source": [
        "from sklearn.preprocessing import StandardScaler\n",
        "from sklearn.model_selection import GridSearchCV\n",
        "from sklearn.neighbors import KNeighborsClassifier\n",
        "from sklearn.pipeline import make_pipeline"
      ]
    },
    {
      "cell_type": "markdown",
      "metadata": {
        "id": "urs8B5gORWBm"
      },
      "source": [
        "Перед тем как прогнать данные по сетке и найти лучший параметр $k$ для модели, необходимо отмасштабировать фичи при помощи StandartScaler, поэтому уместно объединить две модели в один Pipeline."
      ]
    },
    {
      "cell_type": "code",
      "execution_count": 23,
      "metadata": {
        "id": "Y9XXLgNlR2SX"
      },
      "outputs": [],
      "source": [
        "KNN_pipeline = make_pipeline(\n",
        "    StandardScaler(),\n",
        "    KNeighborsClassifier()\n",
        ")"
      ]
    },
    {
      "cell_type": "markdown",
      "metadata": {
        "id": "tmR-2AK9SPlw"
      },
      "source": [
        "Напишем универсальную функцию для поиска по сетке и отрисовки результатов. В качестве проверки результата будем использовать метрику 'roc-auc'."
      ]
    },
    {
      "cell_type": "code",
      "execution_count": 24,
      "metadata": {
        "id": "QA4RHVZqWOw5",
        "colab": {
          "base_uri": "https://localhost:8080/"
        },
        "outputId": "0833cbac-3fbc-4005-c246-7f33f8ab2bd6"
      },
      "outputs": [
        {
          "output_type": "execute_result",
          "data": {
            "text/plain": [
              "dict_keys(['memory', 'steps', 'verbose', 'standardscaler', 'kneighborsclassifier', 'standardscaler__copy', 'standardscaler__with_mean', 'standardscaler__with_std', 'kneighborsclassifier__algorithm', 'kneighborsclassifier__leaf_size', 'kneighborsclassifier__metric', 'kneighborsclassifier__metric_params', 'kneighborsclassifier__n_jobs', 'kneighborsclassifier__n_neighbors', 'kneighborsclassifier__p', 'kneighborsclassifier__weights'])"
            ]
          },
          "metadata": {},
          "execution_count": 24
        }
      ],
      "source": [
        "KNN_pipeline.get_params().keys()"
      ]
    },
    {
      "cell_type": "code",
      "execution_count": 25,
      "metadata": {
        "id": "tENFNCr-TGwo"
      },
      "outputs": [],
      "source": [
        "parameters ={\n",
        "    'kneighborsclassifier__n_neighbors': np.array(np.linspace(4, 30, 8), dtype='int'),\n",
        "    'kneighborsclassifier__metric': ['manhattan', 'euclidean'],\n",
        "    'kneighborsclassifier__weights': ['uniform', 'distance']\n",
        "}"
      ]
    },
    {
      "cell_type": "code",
      "execution_count": 26,
      "metadata": {
        "id": "dAH7ca4kSjh_",
        "colab": {
          "base_uri": "https://localhost:8080/"
        },
        "outputId": "a3c3420c-8cfa-4296-f0e8-f99d54074136"
      },
      "outputs": [
        {
          "output_type": "stream",
          "name": "stdout",
          "text": [
            "Fitting 5 folds for each of 32 candidates, totalling 160 fits\n"
          ]
        },
        {
          "output_type": "execute_result",
          "data": {
            "text/plain": [
              "{'kneighborsclassifier__metric': 'manhattan',\n",
              " 'kneighborsclassifier__n_neighbors': 30,\n",
              " 'kneighborsclassifier__weights': 'uniform'}"
            ]
          },
          "metadata": {},
          "execution_count": 26
        }
      ],
      "source": [
        "CV_model = GridSearchCV(estimator=KNN_pipeline, \n",
        "              param_grid=parameters,\n",
        "              cv=5, \n",
        "              scoring='roc_auc',\n",
        "              n_jobs=-1, \n",
        "              verbose=10)\n",
        "knn = CV_model.fit(X, y)\n",
        "knn.best_params_"
      ]
    },
    {
      "cell_type": "markdown",
      "metadata": {
        "id": "-tlUo0_JYQoz"
      },
      "source": [
        "Лучшие параметры:\n",
        "\n",
        "$k = 30$, uniform weights и manhattan metric\n",
        "\n",
        "Обучим модель с таким набором параметров и проверим скор"
      ]
    },
    {
      "cell_type": "code",
      "execution_count": 27,
      "metadata": {
        "id": "HLEsueJ0Yh_S"
      },
      "outputs": [],
      "source": [
        "y_pred_prob_KNN = knn.predict_proba(X)[:, 1]\n",
        "y_pred_KNN = knn.predict(X)"
      ]
    },
    {
      "cell_type": "code",
      "execution_count": 28,
      "metadata": {
        "id": "1aDfYdWkZgSh"
      },
      "outputs": [],
      "source": [
        "from sklearn.metrics import roc_auc_score, accuracy_score, roc_curve"
      ]
    },
    {
      "cell_type": "code",
      "execution_count": 29,
      "metadata": {
        "id": "_MimuUdHZj95",
        "colab": {
          "base_uri": "https://localhost:8080/"
        },
        "outputId": "8c662ca4-ff0e-44c8-a814-5c29dade1f19"
      },
      "outputs": [
        {
          "output_type": "stream",
          "name": "stdout",
          "text": [
            "ROC-AUC of KNN on train samples is 0.85480511719364\n",
            "Accuracy of KNN on train samples is 0.8106777735706172\n"
          ]
        }
      ],
      "source": [
        "print(f\"ROC-AUC of KNN on train samples is {roc_auc_score(y, y_pred_prob_KNN, average='macro')}\")\n",
        "print(f\"Accuracy of KNN on train samples is {accuracy_score(y, y_pred_KNN)}\")"
      ]
    },
    {
      "cell_type": "code",
      "source": [
        "X_test = pd.read_csv('./test_Tele.csv')\n",
        "\n",
        "X_test = X_test.replace(' ', 0)\n",
        "X_test['TotalSpent'] = pd.to_numeric(X_test['TotalSpent'])\n",
        "\n",
        "X_test_origin = X_test\n",
        "\n",
        "dummy_features = pd.get_dummies(X_test[cat_cols], drop_first=True)\n",
        "X_test = pd.concat([X_test[num_cols], dummy_features], axis=1)"
      ],
      "metadata": {
        "id": "CoOTIl_ulkXi"
      },
      "execution_count": 30,
      "outputs": []
    },
    {
      "cell_type": "code",
      "source": [
        "y_pred_prob_knn_test = knn.predict_proba(X_test)[:, 1]\n",
        "\n",
        "submission = pd.read_csv('./submission_Tele.csv')\n",
        "submission['Churn'] = y_pred_prob_knn_test\n",
        "submission['Churn'].to_csv('./knn_submission.csv')"
      ],
      "metadata": {
        "id": "iDlmyPbFlmX-"
      },
      "execution_count": 31,
      "outputs": []
    },
    {
      "cell_type": "markdown",
      "metadata": {
        "id": "n21oE2w8_M7q"
      },
      "source": [
        "# Применение линейных моделей"
      ]
    },
    {
      "cell_type": "markdown",
      "metadata": {
        "id": "7FNjJ4irAVFI"
      },
      "source": [
        "Теперь подберем лучшие параметры для логистической регрессии. По тем же соображениям необходимо вначале отмасштабировать признаки."
      ]
    },
    {
      "cell_type": "code",
      "execution_count": 32,
      "metadata": {
        "id": "Pi2UetFS_OyQ"
      },
      "outputs": [],
      "source": [
        "from sklearn.linear_model import LogisticRegression, LogisticRegressionCV"
      ]
    },
    {
      "cell_type": "code",
      "execution_count": 33,
      "metadata": {
        "id": "KALo0jdKGb4k"
      },
      "outputs": [],
      "source": [
        "LogReg_pipeline = make_pipeline(\n",
        "    StandardScaler(),\n",
        "    LogisticRegression(penalty='l2')\n",
        ")"
      ]
    },
    {
      "cell_type": "code",
      "execution_count": 34,
      "metadata": {
        "id": "rbq-f8N7W8qz",
        "colab": {
          "base_uri": "https://localhost:8080/"
        },
        "outputId": "51ef7223-7038-4062-ddc9-2a55c7cf435b"
      },
      "outputs": [
        {
          "output_type": "execute_result",
          "data": {
            "text/plain": [
              "dict_keys(['memory', 'steps', 'verbose', 'standardscaler', 'logisticregression', 'standardscaler__copy', 'standardscaler__with_mean', 'standardscaler__with_std', 'logisticregression__C', 'logisticregression__class_weight', 'logisticregression__dual', 'logisticregression__fit_intercept', 'logisticregression__intercept_scaling', 'logisticregression__l1_ratio', 'logisticregression__max_iter', 'logisticregression__multi_class', 'logisticregression__n_jobs', 'logisticregression__penalty', 'logisticregression__random_state', 'logisticregression__solver', 'logisticregression__tol', 'logisticregression__verbose', 'logisticregression__warm_start'])"
            ]
          },
          "metadata": {},
          "execution_count": 34
        }
      ],
      "source": [
        "LogReg_pipeline.get_params().keys()"
      ]
    },
    {
      "cell_type": "code",
      "execution_count": 35,
      "metadata": {
        "id": "1Zrn-l7gF_Fd"
      },
      "outputs": [],
      "source": [
        "parameters = {\n",
        "    'logisticregression__C': np.logspace(-4, 3, 6)\n",
        "}"
      ]
    },
    {
      "cell_type": "code",
      "execution_count": 36,
      "metadata": {
        "id": "7UGW7dL-czNz",
        "colab": {
          "base_uri": "https://localhost:8080/"
        },
        "outputId": "89b4733c-6a10-4766-c8e4-4fa9fd12630f"
      },
      "outputs": [
        {
          "output_type": "stream",
          "name": "stdout",
          "text": [
            "Fitting 5 folds for each of 6 candidates, totalling 30 fits\n"
          ]
        },
        {
          "output_type": "execute_result",
          "data": {
            "text/plain": [
              "{'logisticregression__C': 39.81071705534969}"
            ]
          },
          "metadata": {},
          "execution_count": 36
        }
      ],
      "source": [
        "CV_model = GridSearchCV(estimator=LogReg_pipeline, \n",
        "              param_grid=parameters,\n",
        "              cv=5, \n",
        "              scoring='roc_auc',\n",
        "              n_jobs=-1, \n",
        "              verbose=10)\n",
        "logreg = CV_model.fit(X, y)\n",
        "logreg.best_params_"
      ]
    },
    {
      "cell_type": "markdown",
      "metadata": {
        "id": "btaCoS8dEhB0"
      },
      "source": [
        "Как видно, результат улучшился по сравнению с KNN.\n",
        "\n",
        "Лучший скор модели наблюдается при $C=39.8107$"
      ]
    },
    {
      "cell_type": "code",
      "execution_count": 37,
      "metadata": {
        "id": "e5xamw43NbK5"
      },
      "outputs": [],
      "source": [
        "y_pred_prob_LogReg_train = logreg.predict_proba(X)[:, 1]\n",
        "y_pred_LogReg_train = logreg.predict(X)"
      ]
    },
    {
      "cell_type": "code",
      "execution_count": 38,
      "metadata": {
        "id": "5ihD87MhQwKq",
        "colab": {
          "base_uri": "https://localhost:8080/"
        },
        "outputId": "0c646001-5788-4138-8a11-94bc92c64aa6"
      },
      "outputs": [
        {
          "output_type": "stream",
          "name": "stdout",
          "text": [
            "ROC-AUC of LogReg on train samples is 0.8490511845410571\n",
            "Accuracy of LogReg on train samples is 0.8080272624006059\n"
          ]
        }
      ],
      "source": [
        "print(f\"ROC-AUC of LogReg on train samples is {roc_auc_score(y, y_pred_prob_LogReg_train, average='macro')}\")\n",
        "print(f\"Accuracy of LogReg on train samples is {accuracy_score(y, y_pred_LogReg_train)}\")"
      ]
    },
    {
      "cell_type": "code",
      "source": [
        "y_pred_prob_logreg_test = logreg.predict_proba(X_test)[:, 1]\n",
        "\n",
        "\n",
        "submission = pd.read_csv('./submission_Tele.csv')\n",
        "submission['Churn'] = y_pred_prob_logreg_test\n",
        "submission['Churn'].to_csv('./logreg_submission.csv')"
      ],
      "metadata": {
        "id": "MPdiYwQeiK3A"
      },
      "execution_count": 39,
      "outputs": []
    },
    {
      "cell_type": "markdown",
      "metadata": {
        "id": "f6vy2oynHfA2"
      },
      "source": [
        "# Решающее дерево"
      ]
    },
    {
      "cell_type": "markdown",
      "metadata": {
        "id": "Yt1NE5xYHizx"
      },
      "source": [
        "Найдем лучшие параметры для решающего дерева. Заметим, что для корректной работы этого алгоритма нет необходимости масштабировать признаки, так что и паплайн как таковой и не нужен"
      ]
    },
    {
      "cell_type": "code",
      "execution_count": 40,
      "metadata": {
        "id": "8AANKNqZIC10"
      },
      "outputs": [],
      "source": [
        "from sklearn.tree import DecisionTreeClassifier"
      ]
    },
    {
      "cell_type": "code",
      "execution_count": 41,
      "metadata": {
        "id": "2CkIIQaIIWmt"
      },
      "outputs": [],
      "source": [
        "model_DecisionTree = DecisionTreeClassifier()\n",
        "\n",
        "parameters = {\n",
        "    'max_depth': np.arange(1, 30)\n",
        "}"
      ]
    },
    {
      "cell_type": "code",
      "execution_count": 42,
      "metadata": {
        "id": "4YglGbSwJZVN",
        "colab": {
          "base_uri": "https://localhost:8080/"
        },
        "outputId": "4785dcf0-e78f-4591-d56c-cb8c8e1b07de"
      },
      "outputs": [
        {
          "output_type": "stream",
          "name": "stdout",
          "text": [
            "Fitting 5 folds for each of 29 candidates, totalling 145 fits\n"
          ]
        },
        {
          "output_type": "execute_result",
          "data": {
            "text/plain": [
              "{'max_depth': 5}"
            ]
          },
          "metadata": {},
          "execution_count": 42
        }
      ],
      "source": [
        "CV_model = GridSearchCV(estimator=model_DecisionTree, \n",
        "              param_grid=parameters,\n",
        "              cv=5, \n",
        "              scoring='roc_auc',\n",
        "              n_jobs=-1, \n",
        "              verbose=10)\n",
        "dectree = CV_model.fit(X, y)\n",
        "dectree.best_params_"
      ]
    },
    {
      "cell_type": "markdown",
      "metadata": {
        "id": "oa-9DJRkKLWv"
      },
      "source": [
        "Лучшая глубина дерева $=4$."
      ]
    },
    {
      "cell_type": "code",
      "execution_count": 43,
      "metadata": {
        "id": "Pfx74699K_75"
      },
      "outputs": [],
      "source": [
        "y_pred_prob_DecTree_train = dectree.predict_proba(X)[:, 1]\n",
        "y_pred_DecTree_train = dectree.predict(X)"
      ]
    },
    {
      "cell_type": "code",
      "execution_count": 44,
      "metadata": {
        "id": "6mF4COTTMSOL",
        "colab": {
          "base_uri": "https://localhost:8080/"
        },
        "outputId": "c94ea455-4453-4d39-a867-9d412f352cf6"
      },
      "outputs": [
        {
          "output_type": "stream",
          "name": "stdout",
          "text": [
            "ROC-AUC of DecisionTree on train samples is 0.8450766400139986\n",
            "Accuracy of DecisionTree on train samples is 0.8038621734191594\n"
          ]
        }
      ],
      "source": [
        "print(f\"ROC-AUC of DecisionTree on train samples is {roc_auc_score(y, y_pred_prob_DecTree_train, average='macro')}\")\n",
        "print(f\"Accuracy of DecisionTree on train samples is {accuracy_score(y, y_pred_DecTree_train)}\")"
      ]
    },
    {
      "cell_type": "markdown",
      "metadata": {
        "id": "cje5mqyZNq4O"
      },
      "source": [
        "# Случайный лес"
      ]
    },
    {
      "cell_type": "markdown",
      "metadata": {
        "id": "7vTnV5WGObxB"
      },
      "source": [
        "Известно, что случайный лес не переобучается. Поэтому график качества от значения n_estimators будет монотонно возрастать. Имеет смысл зафиксировать n_estimators=250 и подбирать параметры min_samples_split и min_samples_leaf."
      ]
    },
    {
      "cell_type": "code",
      "execution_count": 45,
      "metadata": {
        "id": "ax-xqlQ7OdkN"
      },
      "outputs": [],
      "source": [
        "from sklearn.ensemble import RandomForestClassifier"
      ]
    },
    {
      "cell_type": "code",
      "execution_count": 46,
      "metadata": {
        "id": "GKEfMTuMPAKq"
      },
      "outputs": [],
      "source": [
        "model_RandomForest = RandomForestClassifier(n_estimators=200)\n",
        "\n",
        "parameters = {\n",
        "    'min_samples_split': np.array([10]),\n",
        "    'min_samples_leaf': np.array([14])\n",
        "}"
      ]
    },
    {
      "cell_type": "code",
      "execution_count": 47,
      "metadata": {
        "id": "aNmN230lfPuE",
        "colab": {
          "base_uri": "https://localhost:8080/"
        },
        "outputId": "1e48a8e2-bec4-409a-f749-4bd249b0e9e7"
      },
      "outputs": [
        {
          "output_type": "stream",
          "name": "stdout",
          "text": [
            "Fitting 5 folds for each of 1 candidates, totalling 5 fits\n"
          ]
        },
        {
          "output_type": "execute_result",
          "data": {
            "text/plain": [
              "{'min_samples_leaf': 14, 'min_samples_split': 10}"
            ]
          },
          "metadata": {},
          "execution_count": 47
        }
      ],
      "source": [
        "CV_model = GridSearchCV(estimator=model_RandomForest, \n",
        "              param_grid=parameters,\n",
        "              cv=5, \n",
        "              scoring='roc_auc',\n",
        "              n_jobs=-1, \n",
        "              verbose=10)\n",
        "ranfor = CV_model.fit(X, y) #Попробуем обучиться на выборке целиком\n",
        "ranfor.best_params_"
      ]
    },
    {
      "cell_type": "code",
      "source": [
        "y_pred_prob_RanFor_train = ranfor.predict_proba(X)[:, 1]\n",
        "y_pred_RanFor_train = ranfor.predict(X)\n",
        "\n",
        "print(f\"ROC-AUC of RandomForest on train samples is {roc_auc_score(y, y_pred_prob_RanFor_train, average='macro')}\")\n",
        "print(f\"Accuracy of RandomForest on train samples is {accuracy_score(y, y_pred_RanFor_train)}\")"
      ],
      "metadata": {
        "colab": {
          "base_uri": "https://localhost:8080/"
        },
        "id": "yKaNXfCTzSKL",
        "outputId": "94691c38-8017-42da-bb09-42f5d70c38d3"
      },
      "execution_count": 48,
      "outputs": [
        {
          "output_type": "stream",
          "name": "stdout",
          "text": [
            "ROC-AUC of RandomForest on train samples is 0.8873870400412839\n",
            "Accuracy of RandomForest on train samples is 0.8265808405906854\n"
          ]
        }
      ]
    },
    {
      "cell_type": "code",
      "source": [
        "y_pred_prob_ranfor_test = ranfor.predict_proba(X_test)[:, 1]\n",
        "\n",
        "\n",
        "submission = pd.read_csv('./submission_Tele.csv')\n",
        "submission['Churn'] = y_pred_prob_ranfor_test\n",
        "submission['Churn'].to_csv('./ranforall_submission.csv')"
      ],
      "metadata": {
        "id": "J8dGH3-izl87"
      },
      "execution_count": 49,
      "outputs": []
    },
    {
      "cell_type": "markdown",
      "metadata": {
        "id": "foRvUWX8idA5"
      },
      "source": [
        "# Бустинг"
      ]
    },
    {
      "cell_type": "code",
      "execution_count": 50,
      "metadata": {
        "id": "PL-GBA8Pih3T",
        "colab": {
          "base_uri": "https://localhost:8080/"
        },
        "outputId": "8b59a6f4-05c0-4c89-ba8b-9d35ebb7b86a"
      },
      "outputs": [
        {
          "output_type": "stream",
          "name": "stdout",
          "text": [
            "Looking in indexes: https://pypi.org/simple, https://us-python.pkg.dev/colab-wheels/public/simple/\n",
            "Collecting catboost\n",
            "  Downloading catboost-1.1-cp37-none-manylinux1_x86_64.whl (76.8 MB)\n",
            "\u001b[K     |████████████████████████████████| 76.8 MB 19 kB/s \n",
            "\u001b[?25hRequirement already satisfied: six in /usr/local/lib/python3.7/dist-packages (from catboost) (1.15.0)\n",
            "Requirement already satisfied: graphviz in /usr/local/lib/python3.7/dist-packages (from catboost) (0.10.1)\n",
            "Requirement already satisfied: pandas>=0.24.0 in /usr/local/lib/python3.7/dist-packages (from catboost) (1.3.5)\n",
            "Requirement already satisfied: numpy>=1.16.0 in /usr/local/lib/python3.7/dist-packages (from catboost) (1.21.6)\n",
            "Requirement already satisfied: plotly in /usr/local/lib/python3.7/dist-packages (from catboost) (5.5.0)\n",
            "Requirement already satisfied: matplotlib in /usr/local/lib/python3.7/dist-packages (from catboost) (3.2.2)\n",
            "Requirement already satisfied: scipy in /usr/local/lib/python3.7/dist-packages (from catboost) (1.7.3)\n",
            "Requirement already satisfied: python-dateutil>=2.7.3 in /usr/local/lib/python3.7/dist-packages (from pandas>=0.24.0->catboost) (2.8.2)\n",
            "Requirement already satisfied: pytz>=2017.3 in /usr/local/lib/python3.7/dist-packages (from pandas>=0.24.0->catboost) (2022.4)\n",
            "Requirement already satisfied: kiwisolver>=1.0.1 in /usr/local/lib/python3.7/dist-packages (from matplotlib->catboost) (1.4.4)\n",
            "Requirement already satisfied: cycler>=0.10 in /usr/local/lib/python3.7/dist-packages (from matplotlib->catboost) (0.11.0)\n",
            "Requirement already satisfied: pyparsing!=2.0.4,!=2.1.2,!=2.1.6,>=2.0.1 in /usr/local/lib/python3.7/dist-packages (from matplotlib->catboost) (3.0.9)\n",
            "Requirement already satisfied: typing-extensions in /usr/local/lib/python3.7/dist-packages (from kiwisolver>=1.0.1->matplotlib->catboost) (4.1.1)\n",
            "Requirement already satisfied: tenacity>=6.2.0 in /usr/local/lib/python3.7/dist-packages (from plotly->catboost) (8.1.0)\n",
            "Installing collected packages: catboost\n",
            "Successfully installed catboost-1.1\n"
          ]
        }
      ],
      "source": [
        "!pip install catboost"
      ]
    },
    {
      "cell_type": "code",
      "execution_count": 51,
      "metadata": {
        "id": "tXbfRyk2jPN3"
      },
      "outputs": [],
      "source": [
        "import catboost"
      ]
    },
    {
      "cell_type": "code",
      "source": [
        "cat_indices = []\n",
        "for elem in cat_cols:\n",
        "    cat_indices.append(list(data.columns).index(elem))"
      ],
      "metadata": {
        "id": "EdsYAPgMuMZk"
      },
      "execution_count": 52,
      "outputs": []
    },
    {
      "cell_type": "code",
      "source": [
        "boosting_model = catboost.CatBoostClassifier(n_estimators=200, cat_features=cat_indices, verbose=False)\n",
        "boosting_model.fit(X_origin, y)\n",
        "y_train_predicted = boosting_model.predict_proba(X_origin)[:,1]\n",
        "train_auc_boosting = roc_auc_score(y, y_train_predicted)\n",
        "print(f\"train_auc: {train_auc_boosting}\")"
      ],
      "metadata": {
        "colab": {
          "base_uri": "https://localhost:8080/"
        },
        "id": "P5wLLJlguG59",
        "outputId": "97e52bf7-5c59-450e-a651-2c44c43fb6f1"
      },
      "execution_count": 54,
      "outputs": [
        {
          "output_type": "stream",
          "name": "stdout",
          "text": [
            "train_auc: 0.8874914918573924\n"
          ]
        }
      ]
    },
    {
      "cell_type": "markdown",
      "source": [
        "Путем проб и ошибок были найдены лучшие гиперпараметры."
      ],
      "metadata": {
        "id": "BFDyfaUgsi82"
      }
    },
    {
      "cell_type": "code",
      "execution_count": 55,
      "metadata": {
        "id": "n3Wid0fvjlRz",
        "colab": {
          "base_uri": "https://localhost:8080/"
        },
        "outputId": "b4ae9b0b-31cd-434e-d0d8-cafabf756bb3"
      },
      "outputs": [
        {
          "output_type": "execute_result",
          "data": {
            "text/plain": [
              "<catboost.core.CatBoostClassifier at 0x7f9b4eef4f90>"
            ]
          },
          "metadata": {},
          "execution_count": 55
        }
      ],
      "source": [
        "boosting_model = catboost.CatBoostClassifier(silent=True,\n",
        "                                             cat_features=cat_indices,\n",
        "                                             eval_metric='AUC',\n",
        "                                             iterations=200,\n",
        "                                             depth=4,\n",
        "                                             learning_rate=0.07,\n",
        "                                             l2_leaf_reg=0.1,\n",
        "                                             loss_function='Logloss',\n",
        "                                             random_seed=42)\n",
        "\n",
        "boosting_model.fit(X_origin, y)"
      ]
    },
    {
      "cell_type": "code",
      "execution_count": 56,
      "metadata": {
        "id": "eIBLQxKHpbJl"
      },
      "outputs": [],
      "source": [
        "y_pred_prob_CatBoost_train = boosting_model.predict_proba(X_origin)[:, 1]\n",
        "y_pred_CatBoost_train = boosting_model.predict(X_origin)"
      ]
    },
    {
      "cell_type": "code",
      "execution_count": 57,
      "metadata": {
        "id": "8t9GJZS-kIgd",
        "colab": {
          "base_uri": "https://localhost:8080/"
        },
        "outputId": "c987daf2-6bd7-4df3-a8d6-840cdc499395"
      },
      "outputs": [
        {
          "output_type": "stream",
          "name": "stdout",
          "text": [
            "ROC-AUC of Catboost on train samples is 0.8662508860331517\n",
            "Accuracy of Catboost on train samples is 0.815032184778493\n"
          ]
        }
      ],
      "source": [
        "print(f\"ROC-AUC of Catboost on train samples is {roc_auc_score(y, y_pred_prob_CatBoost_train, average='macro')}\")\n",
        "print(f\"Accuracy of Catboost on train samples is {accuracy_score(y, y_pred_CatBoost_train)}\")"
      ]
    },
    {
      "cell_type": "code",
      "source": [
        "y_pred_prob_catboost_test = boosting_model.predict_proba(X_test_origin)[:, 1]\n",
        "\n",
        "\n",
        "submission = pd.read_csv('./submission_Tele.csv')\n",
        "submission['Churn'] = y_pred_prob_catboost_test\n",
        "submission['Churn'].to_csv('./catboost_submission.csv')"
      ],
      "metadata": {
        "id": "1hw6DGMIqDil"
      },
      "execution_count": 58,
      "outputs": []
    },
    {
      "cell_type": "markdown",
      "metadata": {
        "id": "lPgR0IgBmWdI"
      },
      "source": [
        "# Стэкинг лучших моделей"
      ]
    },
    {
      "cell_type": "code",
      "execution_count": 59,
      "metadata": {
        "id": "dw1XSdtbnVME"
      },
      "outputs": [],
      "source": [
        "from sklearn.model_selection import cross_val_predict\n",
        "from tqdm.notebook import tqdm"
      ]
    },
    {
      "cell_type": "code",
      "execution_count": 60,
      "metadata": {
        "id": "K5Dt46pSoIyj"
      },
      "outputs": [],
      "source": [
        "models = []\n",
        "models.append(logreg)\n",
        "models.append(ranfor)"
      ]
    },
    {
      "cell_type": "code",
      "execution_count": 62,
      "metadata": {
        "id": "BuzGxeQFoxAs",
        "colab": {
          "base_uri": "https://localhost:8080/",
          "height": 49,
          "referenced_widgets": [
            "fa88eee47f7d4443bb091a5df8bf1f84",
            "d58436c5b0d94938944ea252d0c91880",
            "b41fbd1490074422b124bce24f45791e",
            "5c51b92ae9e344f4bd324b5529d64ed8",
            "c3d451c5edf64158b6125861f8a94018",
            "d37e7d52b45c4a358475b725ae3f2fa0",
            "807daf281627485593f333d3a6d7e8ea",
            "494c83e7d6be424ca5b84adfbb3babd3",
            "7ff45a3ddcde4f318cd9308fea2d63b1",
            "5db2fdc221cb48abaf9480072401b86e",
            "b33e272ec53f47bf95931f0338c181f4"
          ]
        },
        "outputId": "9bea14da-04d1-4a05-9bb0-7dc65ad02b6b"
      },
      "outputs": [
        {
          "output_type": "display_data",
          "data": {
            "text/plain": [
              "  0%|          | 0/2 [00:00<?, ?it/s]"
            ],
            "application/vnd.jupyter.widget-view+json": {
              "version_major": 2,
              "version_minor": 0,
              "model_id": "fa88eee47f7d4443bb091a5df8bf1f84"
            }
          },
          "metadata": {}
        }
      ],
      "source": [
        "meta_features_train = np.zeros((X.shape[0], 0))\n",
        "for model in tqdm(models):\n",
        "    train = model.predict_proba(X)[:, 1]\n",
        "    meta_features_train = np.append(meta_features_train, train.reshape((train.size, 1)), axis=1)"
      ]
    },
    {
      "cell_type": "code",
      "execution_count": 63,
      "metadata": {
        "id": "wnVNXWgH9SkY"
      },
      "outputs": [],
      "source": [
        "models.append(boosting_model)\n",
        "train = boosting_model.predict_proba(X_origin)[:, 1]\n",
        "meta_features_train = np.append(meta_features_train, train.reshape((train.size, 1)), axis=1)"
      ]
    },
    {
      "cell_type": "code",
      "execution_count": 72,
      "metadata": {
        "id": "xEMUUmbPpLcm",
        "colab": {
          "base_uri": "https://localhost:8080/"
        },
        "outputId": "e8bd7c79-c6f3-400a-8a03-a1e9720f105a"
      },
      "outputs": [
        {
          "output_type": "stream",
          "name": "stdout",
          "text": [
            "Fitting 5 folds for each of 6 candidates, totalling 30 fits\n"
          ]
        },
        {
          "output_type": "execute_result",
          "data": {
            "text/plain": [
              "{'logisticregression__C': 39.81071705534969}"
            ]
          },
          "metadata": {},
          "execution_count": 72
        }
      ],
      "source": [
        "stacking_model = make_pipeline(\n",
        "    StandardScaler(),\n",
        "    LogisticRegression(penalty='l2')\n",
        ")\n",
        "\n",
        "parameters = {\n",
        "    'logisticregression__C': np.logspace(-4, 3, 6)\n",
        "}\n",
        "\n",
        "CV_model = GridSearchCV(estimator=stacking_model, \n",
        "              param_grid=parameters,\n",
        "              cv=5, \n",
        "              scoring='roc_auc',\n",
        "              n_jobs=-1, \n",
        "              verbose=10)\n",
        "\n",
        "stacking_model = CV_model.fit(meta_features_train, y)\n",
        "stacking_model.best_params_"
      ]
    },
    {
      "cell_type": "code",
      "source": [
        "y_pred_prob_stacking_train = stacking_model.predict_proba(meta_features_train)[:, 1]\n",
        "y_pred_stacking_train = stacking_model.predict(meta_features_train)"
      ],
      "metadata": {
        "id": "CwYSRKpwn9hQ"
      },
      "execution_count": 73,
      "outputs": []
    },
    {
      "cell_type": "code",
      "execution_count": 74,
      "metadata": {
        "colab": {
          "base_uri": "https://localhost:8080/"
        },
        "outputId": "3456ee4a-c325-4ef3-8d1b-f221d73e6433",
        "id": "IJtIYyDtoF8w"
      },
      "outputs": [
        {
          "output_type": "stream",
          "name": "stdout",
          "text": [
            "ROC-AUC of stacking on train samples is 0.8999832617586608\n",
            "Accuracy of stacking on train samples is 0.8286633850814086\n"
          ]
        }
      ],
      "source": [
        "print(f\"ROC-AUC of stacking on train samples is {roc_auc_score(y, y_pred_prob_stacking_train, average='macro')}\")\n",
        "print(f\"Accuracy of stacking on train samples is {accuracy_score(y, y_pred_stacking_train)}\")"
      ]
    },
    {
      "cell_type": "code",
      "source": [
        "models = []\n",
        "models.append(logreg)\n",
        "models.append(ranfor)\n",
        "meta_features_test = np.zeros((X_test.shape[0], 0))\n",
        "for model in tqdm(models):\n",
        "    test = model.predict_proba(X_test)[:, 1]\n",
        "    meta_features_test = np.append(meta_features_test, test.reshape((test.size, 1)), axis=1)\n",
        "\n",
        "models.append(boosting_model)\n",
        "test = boosting_model.predict_proba(X_test_origin)[:, 1]\n",
        "meta_features_test = np.append(meta_features_test, test.reshape((test.size, 1)), axis=1)"
      ],
      "metadata": {
        "colab": {
          "base_uri": "https://localhost:8080/",
          "height": 49,
          "referenced_widgets": [
            "dd07c3fb756346b580aa1a05b66fd0a2",
            "3359f0d649474f48b1d7b88a7246a5d9",
            "90587f10986a4d0b8c770b2b8aa3f345",
            "3593e404cdd243218364cbbcc474df41",
            "d18359af0e854f2ea8747248e17c844e",
            "dffa193656854754af4f0c40b56f0c0b",
            "d0c0b0d66ae44f8293490faf5a99fe0d",
            "c912f1495edf4408a5096a202b95491b",
            "800a4f95cc774efd852fa4236a6078ac",
            "2067a9a88e824d6aa51a5841f8cfd446",
            "c78cc664088042a1ad4107930281387a"
          ]
        },
        "id": "2K84P7L-rWqk",
        "outputId": "a9a4b30a-bcad-4072-d681-ee1012144ac9"
      },
      "execution_count": 75,
      "outputs": [
        {
          "output_type": "display_data",
          "data": {
            "text/plain": [
              "  0%|          | 0/2 [00:00<?, ?it/s]"
            ],
            "application/vnd.jupyter.widget-view+json": {
              "version_major": 2,
              "version_minor": 0,
              "model_id": "dd07c3fb756346b580aa1a05b66fd0a2"
            }
          },
          "metadata": {}
        }
      ]
    },
    {
      "cell_type": "code",
      "source": [
        "y_pred_prob_stacking_test = stacking_model.predict_proba(meta_features_test)[:, 1]\n",
        "\n",
        "\n",
        "submission = pd.read_csv('./submission_Tele.csv')\n",
        "submission['Churn'] = y_pred_prob_stacking_test\n",
        "submission['Churn'].to_csv('./stacking_submission.csv')"
      ],
      "metadata": {
        "id": "li54StwdrnIO"
      },
      "execution_count": 76,
      "outputs": []
    },
    {
      "cell_type": "markdown",
      "metadata": {
        "id": "myx181NvKZpt"
      },
      "source": [
        "# Лучшая модель"
      ]
    },
    {
      "cell_type": "code",
      "execution_count": 77,
      "metadata": {
        "id": "YraN0jnxJozx"
      },
      "outputs": [],
      "source": [
        "best_model = boosting_model #53 место из 2200 участников"
      ]
    },
    {
      "cell_type": "markdown",
      "source": [
        "![image.png](data:image/png;base64,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)"
      ],
      "metadata": {
        "id": "8RukVQpasEbR"
      }
    }
  ],
  "metadata": {
    "colab": {
      "collapsed_sections": [],
      "provenance": []
    },
    "kernelspec": {
      "display_name": "Python 3",
      "name": "python3"
    },
    "language_info": {
      "name": "python"
    },
    "widgets": {
      "application/vnd.jupyter.widget-state+json": {
        "fa88eee47f7d4443bb091a5df8bf1f84": {
          "model_module": "@jupyter-widgets/controls",
          "model_name": "HBoxModel",
          "model_module_version": "1.5.0",
          "state": {
            "_dom_classes": [],
            "_model_module": "@jupyter-widgets/controls",
            "_model_module_version": "1.5.0",
            "_model_name": "HBoxModel",
            "_view_count": null,
            "_view_module": "@jupyter-widgets/controls",
            "_view_module_version": "1.5.0",
            "_view_name": "HBoxView",
            "box_style": "",
            "children": [
              "IPY_MODEL_d58436c5b0d94938944ea252d0c91880",
              "IPY_MODEL_b41fbd1490074422b124bce24f45791e",
              "IPY_MODEL_5c51b92ae9e344f4bd324b5529d64ed8"
            ],
            "layout": "IPY_MODEL_c3d451c5edf64158b6125861f8a94018"
          }
        },
        "d58436c5b0d94938944ea252d0c91880": {
          "model_module": "@jupyter-widgets/controls",
          "model_name": "HTMLModel",
          "model_module_version": "1.5.0",
          "state": {
            "_dom_classes": [],
            "_model_module": "@jupyter-widgets/controls",
            "_model_module_version": "1.5.0",
            "_model_name": "HTMLModel",
            "_view_count": null,
            "_view_module": "@jupyter-widgets/controls",
            "_view_module_version": "1.5.0",
            "_view_name": "HTMLView",
            "description": "",
            "description_tooltip": null,
            "layout": "IPY_MODEL_d37e7d52b45c4a358475b725ae3f2fa0",
            "placeholder": "​",
            "style": "IPY_MODEL_807daf281627485593f333d3a6d7e8ea",
            "value": "100%"
          }
        },
        "b41fbd1490074422b124bce24f45791e": {
          "model_module": "@jupyter-widgets/controls",
          "model_name": "FloatProgressModel",
          "model_module_version": "1.5.0",
          "state": {
            "_dom_classes": [],
            "_model_module": "@jupyter-widgets/controls",
            "_model_module_version": "1.5.0",
            "_model_name": "FloatProgressModel",
            "_view_count": null,
            "_view_module": "@jupyter-widgets/controls",
            "_view_module_version": "1.5.0",
            "_view_name": "ProgressView",
            "bar_style": "success",
            "description": "",
            "description_tooltip": null,
            "layout": "IPY_MODEL_494c83e7d6be424ca5b84adfbb3babd3",
            "max": 2,
            "min": 0,
            "orientation": "horizontal",
            "style": "IPY_MODEL_7ff45a3ddcde4f318cd9308fea2d63b1",
            "value": 2
          }
        },
        "5c51b92ae9e344f4bd324b5529d64ed8": {
          "model_module": "@jupyter-widgets/controls",
          "model_name": "HTMLModel",
          "model_module_version": "1.5.0",
          "state": {
            "_dom_classes": [],
            "_model_module": "@jupyter-widgets/controls",
            "_model_module_version": "1.5.0",
            "_model_name": "HTMLModel",
            "_view_count": null,
            "_view_module": "@jupyter-widgets/controls",
            "_view_module_version": "1.5.0",
            "_view_name": "HTMLView",
            "description": "",
            "description_tooltip": null,
            "layout": "IPY_MODEL_5db2fdc221cb48abaf9480072401b86e",
            "placeholder": "​",
            "style": "IPY_MODEL_b33e272ec53f47bf95931f0338c181f4",
            "value": " 2/2 [00:00&lt;00:00,  7.60it/s]"
          }
        },
        "c3d451c5edf64158b6125861f8a94018": {
          "model_module": "@jupyter-widgets/base",
          "model_name": "LayoutModel",
          "model_module_version": "1.2.0",
          "state": {
            "_model_module": "@jupyter-widgets/base",
            "_model_module_version": "1.2.0",
            "_model_name": "LayoutModel",
            "_view_count": null,
            "_view_module": "@jupyter-widgets/base",
            "_view_module_version": "1.2.0",
            "_view_name": "LayoutView",
            "align_content": null,
            "align_items": null,
            "align_self": null,
            "border": null,
            "bottom": null,
            "display": null,
            "flex": null,
            "flex_flow": null,
            "grid_area": null,
            "grid_auto_columns": null,
            "grid_auto_flow": null,
            "grid_auto_rows": null,
            "grid_column": null,
            "grid_gap": null,
            "grid_row": null,
            "grid_template_areas": null,
            "grid_template_columns": null,
            "grid_template_rows": null,
            "height": null,
            "justify_content": null,
            "justify_items": null,
            "left": null,
            "margin": null,
            "max_height": null,
            "max_width": null,
            "min_height": null,
            "min_width": null,
            "object_fit": null,
            "object_position": null,
            "order": null,
            "overflow": null,
            "overflow_x": null,
            "overflow_y": null,
            "padding": null,
            "right": null,
            "top": null,
            "visibility": null,
            "width": null
          }
        },
        "d37e7d52b45c4a358475b725ae3f2fa0": {
          "model_module": "@jupyter-widgets/base",
          "model_name": "LayoutModel",
          "model_module_version": "1.2.0",
          "state": {
            "_model_module": "@jupyter-widgets/base",
            "_model_module_version": "1.2.0",
            "_model_name": "LayoutModel",
            "_view_count": null,
            "_view_module": "@jupyter-widgets/base",
            "_view_module_version": "1.2.0",
            "_view_name": "LayoutView",
            "align_content": null,
            "align_items": null,
            "align_self": null,
            "border": null,
            "bottom": null,
            "display": null,
            "flex": null,
            "flex_flow": null,
            "grid_area": null,
            "grid_auto_columns": null,
            "grid_auto_flow": null,
            "grid_auto_rows": null,
            "grid_column": null,
            "grid_gap": null,
            "grid_row": null,
            "grid_template_areas": null,
            "grid_template_columns": null,
            "grid_template_rows": null,
            "height": null,
            "justify_content": null,
            "justify_items": null,
            "left": null,
            "margin": null,
            "max_height": null,
            "max_width": null,
            "min_height": null,
            "min_width": null,
            "object_fit": null,
            "object_position": null,
            "order": null,
            "overflow": null,
            "overflow_x": null,
            "overflow_y": null,
            "padding": null,
            "right": null,
            "top": null,
            "visibility": null,
            "width": null
          }
        },
        "807daf281627485593f333d3a6d7e8ea": {
          "model_module": "@jupyter-widgets/controls",
          "model_name": "DescriptionStyleModel",
          "model_module_version": "1.5.0",
          "state": {
            "_model_module": "@jupyter-widgets/controls",
            "_model_module_version": "1.5.0",
            "_model_name": "DescriptionStyleModel",
            "_view_count": null,
            "_view_module": "@jupyter-widgets/base",
            "_view_module_version": "1.2.0",
            "_view_name": "StyleView",
            "description_width": ""
          }
        },
        "494c83e7d6be424ca5b84adfbb3babd3": {
          "model_module": "@jupyter-widgets/base",
          "model_name": "LayoutModel",
          "model_module_version": "1.2.0",
          "state": {
            "_model_module": "@jupyter-widgets/base",
            "_model_module_version": "1.2.0",
            "_model_name": "LayoutModel",
            "_view_count": null,
            "_view_module": "@jupyter-widgets/base",
            "_view_module_version": "1.2.0",
            "_view_name": "LayoutView",
            "align_content": null,
            "align_items": null,
            "align_self": null,
            "border": null,
            "bottom": null,
            "display": null,
            "flex": null,
            "flex_flow": null,
            "grid_area": null,
            "grid_auto_columns": null,
            "grid_auto_flow": null,
            "grid_auto_rows": null,
            "grid_column": null,
            "grid_gap": null,
            "grid_row": null,
            "grid_template_areas": null,
            "grid_template_columns": null,
            "grid_template_rows": null,
            "height": null,
            "justify_content": null,
            "justify_items": null,
            "left": null,
            "margin": null,
            "max_height": null,
            "max_width": null,
            "min_height": null,
            "min_width": null,
            "object_fit": null,
            "object_position": null,
            "order": null,
            "overflow": null,
            "overflow_x": null,
            "overflow_y": null,
            "padding": null,
            "right": null,
            "top": null,
            "visibility": null,
            "width": null
          }
        },
        "7ff45a3ddcde4f318cd9308fea2d63b1": {
          "model_module": "@jupyter-widgets/controls",
          "model_name": "ProgressStyleModel",
          "model_module_version": "1.5.0",
          "state": {
            "_model_module": "@jupyter-widgets/controls",
            "_model_module_version": "1.5.0",
            "_model_name": "ProgressStyleModel",
            "_view_count": null,
            "_view_module": "@jupyter-widgets/base",
            "_view_module_version": "1.2.0",
            "_view_name": "StyleView",
            "bar_color": null,
            "description_width": ""
          }
        },
        "5db2fdc221cb48abaf9480072401b86e": {
          "model_module": "@jupyter-widgets/base",
          "model_name": "LayoutModel",
          "model_module_version": "1.2.0",
          "state": {
            "_model_module": "@jupyter-widgets/base",
            "_model_module_version": "1.2.0",
            "_model_name": "LayoutModel",
            "_view_count": null,
            "_view_module": "@jupyter-widgets/base",
            "_view_module_version": "1.2.0",
            "_view_name": "LayoutView",
            "align_content": null,
            "align_items": null,
            "align_self": null,
            "border": null,
            "bottom": null,
            "display": null,
            "flex": null,
            "flex_flow": null,
            "grid_area": null,
            "grid_auto_columns": null,
            "grid_auto_flow": null,
            "grid_auto_rows": null,
            "grid_column": null,
            "grid_gap": null,
            "grid_row": null,
            "grid_template_areas": null,
            "grid_template_columns": null,
            "grid_template_rows": null,
            "height": null,
            "justify_content": null,
            "justify_items": null,
            "left": null,
            "margin": null,
            "max_height": null,
            "max_width": null,
            "min_height": null,
            "min_width": null,
            "object_fit": null,
            "object_position": null,
            "order": null,
            "overflow": null,
            "overflow_x": null,
            "overflow_y": null,
            "padding": null,
            "right": null,
            "top": null,
            "visibility": null,
            "width": null
          }
        },
        "b33e272ec53f47bf95931f0338c181f4": {
          "model_module": "@jupyter-widgets/controls",
          "model_name": "DescriptionStyleModel",
          "model_module_version": "1.5.0",
          "state": {
            "_model_module": "@jupyter-widgets/controls",
            "_model_module_version": "1.5.0",
            "_model_name": "DescriptionStyleModel",
            "_view_count": null,
            "_view_module": "@jupyter-widgets/base",
            "_view_module_version": "1.2.0",
            "_view_name": "StyleView",
            "description_width": ""
          }
        },
        "dd07c3fb756346b580aa1a05b66fd0a2": {
          "model_module": "@jupyter-widgets/controls",
          "model_name": "HBoxModel",
          "model_module_version": "1.5.0",
          "state": {
            "_dom_classes": [],
            "_model_module": "@jupyter-widgets/controls",
            "_model_module_version": "1.5.0",
            "_model_name": "HBoxModel",
            "_view_count": null,
            "_view_module": "@jupyter-widgets/controls",
            "_view_module_version": "1.5.0",
            "_view_name": "HBoxView",
            "box_style": "",
            "children": [
              "IPY_MODEL_3359f0d649474f48b1d7b88a7246a5d9",
              "IPY_MODEL_90587f10986a4d0b8c770b2b8aa3f345",
              "IPY_MODEL_3593e404cdd243218364cbbcc474df41"
            ],
            "layout": "IPY_MODEL_d18359af0e854f2ea8747248e17c844e"
          }
        },
        "3359f0d649474f48b1d7b88a7246a5d9": {
          "model_module": "@jupyter-widgets/controls",
          "model_name": "HTMLModel",
          "model_module_version": "1.5.0",
          "state": {
            "_dom_classes": [],
            "_model_module": "@jupyter-widgets/controls",
            "_model_module_version": "1.5.0",
            "_model_name": "HTMLModel",
            "_view_count": null,
            "_view_module": "@jupyter-widgets/controls",
            "_view_module_version": "1.5.0",
            "_view_name": "HTMLView",
            "description": "",
            "description_tooltip": null,
            "layout": "IPY_MODEL_dffa193656854754af4f0c40b56f0c0b",
            "placeholder": "​",
            "style": "IPY_MODEL_d0c0b0d66ae44f8293490faf5a99fe0d",
            "value": "100%"
          }
        },
        "90587f10986a4d0b8c770b2b8aa3f345": {
          "model_module": "@jupyter-widgets/controls",
          "model_name": "FloatProgressModel",
          "model_module_version": "1.5.0",
          "state": {
            "_dom_classes": [],
            "_model_module": "@jupyter-widgets/controls",
            "_model_module_version": "1.5.0",
            "_model_name": "FloatProgressModel",
            "_view_count": null,
            "_view_module": "@jupyter-widgets/controls",
            "_view_module_version": "1.5.0",
            "_view_name": "ProgressView",
            "bar_style": "success",
            "description": "",
            "description_tooltip": null,
            "layout": "IPY_MODEL_c912f1495edf4408a5096a202b95491b",
            "max": 2,
            "min": 0,
            "orientation": "horizontal",
            "style": "IPY_MODEL_800a4f95cc774efd852fa4236a6078ac",
            "value": 2
          }
        },
        "3593e404cdd243218364cbbcc474df41": {
          "model_module": "@jupyter-widgets/controls",
          "model_name": "HTMLModel",
          "model_module_version": "1.5.0",
          "state": {
            "_dom_classes": [],
            "_model_module": "@jupyter-widgets/controls",
            "_model_module_version": "1.5.0",
            "_model_name": "HTMLModel",
            "_view_count": null,
            "_view_module": "@jupyter-widgets/controls",
            "_view_module_version": "1.5.0",
            "_view_name": "HTMLView",
            "description": "",
            "description_tooltip": null,
            "layout": "IPY_MODEL_2067a9a88e824d6aa51a5841f8cfd446",
            "placeholder": "​",
            "style": "IPY_MODEL_c78cc664088042a1ad4107930281387a",
            "value": " 2/2 [00:00&lt;00:00, 11.94it/s]"
          }
        },
        "d18359af0e854f2ea8747248e17c844e": {
          "model_module": "@jupyter-widgets/base",
          "model_name": "LayoutModel",
          "model_module_version": "1.2.0",
          "state": {
            "_model_module": "@jupyter-widgets/base",
            "_model_module_version": "1.2.0",
            "_model_name": "LayoutModel",
            "_view_count": null,
            "_view_module": "@jupyter-widgets/base",
            "_view_module_version": "1.2.0",
            "_view_name": "LayoutView",
            "align_content": null,
            "align_items": null,
            "align_self": null,
            "border": null,
            "bottom": null,
            "display": null,
            "flex": null,
            "flex_flow": null,
            "grid_area": null,
            "grid_auto_columns": null,
            "grid_auto_flow": null,
            "grid_auto_rows": null,
            "grid_column": null,
            "grid_gap": null,
            "grid_row": null,
            "grid_template_areas": null,
            "grid_template_columns": null,
            "grid_template_rows": null,
            "height": null,
            "justify_content": null,
            "justify_items": null,
            "left": null,
            "margin": null,
            "max_height": null,
            "max_width": null,
            "min_height": null,
            "min_width": null,
            "object_fit": null,
            "object_position": null,
            "order": null,
            "overflow": null,
            "overflow_x": null,
            "overflow_y": null,
            "padding": null,
            "right": null,
            "top": null,
            "visibility": null,
            "width": null
          }
        },
        "dffa193656854754af4f0c40b56f0c0b": {
          "model_module": "@jupyter-widgets/base",
          "model_name": "LayoutModel",
          "model_module_version": "1.2.0",
          "state": {
            "_model_module": "@jupyter-widgets/base",
            "_model_module_version": "1.2.0",
            "_model_name": "LayoutModel",
            "_view_count": null,
            "_view_module": "@jupyter-widgets/base",
            "_view_module_version": "1.2.0",
            "_view_name": "LayoutView",
            "align_content": null,
            "align_items": null,
            "align_self": null,
            "border": null,
            "bottom": null,
            "display": null,
            "flex": null,
            "flex_flow": null,
            "grid_area": null,
            "grid_auto_columns": null,
            "grid_auto_flow": null,
            "grid_auto_rows": null,
            "grid_column": null,
            "grid_gap": null,
            "grid_row": null,
            "grid_template_areas": null,
            "grid_template_columns": null,
            "grid_template_rows": null,
            "height": null,
            "justify_content": null,
            "justify_items": null,
            "left": null,
            "margin": null,
            "max_height": null,
            "max_width": null,
            "min_height": null,
            "min_width": null,
            "object_fit": null,
            "object_position": null,
            "order": null,
            "overflow": null,
            "overflow_x": null,
            "overflow_y": null,
            "padding": null,
            "right": null,
            "top": null,
            "visibility": null,
            "width": null
          }
        },
        "d0c0b0d66ae44f8293490faf5a99fe0d": {
          "model_module": "@jupyter-widgets/controls",
          "model_name": "DescriptionStyleModel",
          "model_module_version": "1.5.0",
          "state": {
            "_model_module": "@jupyter-widgets/controls",
            "_model_module_version": "1.5.0",
            "_model_name": "DescriptionStyleModel",
            "_view_count": null,
            "_view_module": "@jupyter-widgets/base",
            "_view_module_version": "1.2.0",
            "_view_name": "StyleView",
            "description_width": ""
          }
        },
        "c912f1495edf4408a5096a202b95491b": {
          "model_module": "@jupyter-widgets/base",
          "model_name": "LayoutModel",
          "model_module_version": "1.2.0",
          "state": {
            "_model_module": "@jupyter-widgets/base",
            "_model_module_version": "1.2.0",
            "_model_name": "LayoutModel",
            "_view_count": null,
            "_view_module": "@jupyter-widgets/base",
            "_view_module_version": "1.2.0",
            "_view_name": "LayoutView",
            "align_content": null,
            "align_items": null,
            "align_self": null,
            "border": null,
            "bottom": null,
            "display": null,
            "flex": null,
            "flex_flow": null,
            "grid_area": null,
            "grid_auto_columns": null,
            "grid_auto_flow": null,
            "grid_auto_rows": null,
            "grid_column": null,
            "grid_gap": null,
            "grid_row": null,
            "grid_template_areas": null,
            "grid_template_columns": null,
            "grid_template_rows": null,
            "height": null,
            "justify_content": null,
            "justify_items": null,
            "left": null,
            "margin": null,
            "max_height": null,
            "max_width": null,
            "min_height": null,
            "min_width": null,
            "object_fit": null,
            "object_position": null,
            "order": null,
            "overflow": null,
            "overflow_x": null,
            "overflow_y": null,
            "padding": null,
            "right": null,
            "top": null,
            "visibility": null,
            "width": null
          }
        },
        "800a4f95cc774efd852fa4236a6078ac": {
          "model_module": "@jupyter-widgets/controls",
          "model_name": "ProgressStyleModel",
          "model_module_version": "1.5.0",
          "state": {
            "_model_module": "@jupyter-widgets/controls",
            "_model_module_version": "1.5.0",
            "_model_name": "ProgressStyleModel",
            "_view_count": null,
            "_view_module": "@jupyter-widgets/base",
            "_view_module_version": "1.2.0",
            "_view_name": "StyleView",
            "bar_color": null,
            "description_width": ""
          }
        },
        "2067a9a88e824d6aa51a5841f8cfd446": {
          "model_module": "@jupyter-widgets/base",
          "model_name": "LayoutModel",
          "model_module_version": "1.2.0",
          "state": {
            "_model_module": "@jupyter-widgets/base",
            "_model_module_version": "1.2.0",
            "_model_name": "LayoutModel",
            "_view_count": null,
            "_view_module": "@jupyter-widgets/base",
            "_view_module_version": "1.2.0",
            "_view_name": "LayoutView",
            "align_content": null,
            "align_items": null,
            "align_self": null,
            "border": null,
            "bottom": null,
            "display": null,
            "flex": null,
            "flex_flow": null,
            "grid_area": null,
            "grid_auto_columns": null,
            "grid_auto_flow": null,
            "grid_auto_rows": null,
            "grid_column": null,
            "grid_gap": null,
            "grid_row": null,
            "grid_template_areas": null,
            "grid_template_columns": null,
            "grid_template_rows": null,
            "height": null,
            "justify_content": null,
            "justify_items": null,
            "left": null,
            "margin": null,
            "max_height": null,
            "max_width": null,
            "min_height": null,
            "min_width": null,
            "object_fit": null,
            "object_position": null,
            "order": null,
            "overflow": null,
            "overflow_x": null,
            "overflow_y": null,
            "padding": null,
            "right": null,
            "top": null,
            "visibility": null,
            "width": null
          }
        },
        "c78cc664088042a1ad4107930281387a": {
          "model_module": "@jupyter-widgets/controls",
          "model_name": "DescriptionStyleModel",
          "model_module_version": "1.5.0",
          "state": {
            "_model_module": "@jupyter-widgets/controls",
            "_model_module_version": "1.5.0",
            "_model_name": "DescriptionStyleModel",
            "_view_count": null,
            "_view_module": "@jupyter-widgets/base",
            "_view_module_version": "1.2.0",
            "_view_name": "StyleView",
            "description_width": ""
          }
        }
      }
    }
  },
  "nbformat": 4,
  "nbformat_minor": 0
}